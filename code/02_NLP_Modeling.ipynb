{
 "cells": [
  {
   "cell_type": "markdown",
   "metadata": {},
   "source": [
    "# Pre-Processing & Modeling"
   ]
  },
  {
   "cell_type": "markdown",
   "metadata": {},
   "source": [
    "### Imports"
   ]
  },
  {
   "cell_type": "code",
   "execution_count": 2,
   "metadata": {},
   "outputs": [],
   "source": [
    "# Standard imports\n",
    "import pandas as pd\n",
    "import numpy as np\n",
    "import seaborn as sns\n",
    "import matplotlib.pyplot as plt\n",
    "\n",
    "\n",
    "# Processing and Models\n",
    "import regex as re\n",
    "from bs4 import BeautifulSoup \n",
    "from nltk.corpus import stopwords\n",
    "from nltk.tokenize import RegexpTokenizer\n",
    "from nltk.stem.porter import PorterStemmer\n",
    "from nltk.probability import FreqDist\n",
    "\n",
    "from sklearn.model_selection import train_test_split, GridSearchCV\n",
    "from sklearn.pipeline import Pipeline\n",
    "from sklearn.feature_extraction.text import CountVectorizer, TfidfVectorizer\n",
    "from sklearn.linear_model import LogisticRegression\n",
    "from sklearn.naive_bayes import MultinomialNB\n",
    "from sklearn import metrics\n",
    "from sklearn.feature_extraction.text import ENGLISH_STOP_WORDS\n",
    "from sklearn.ensemble import RandomForestClassifier, ExtraTreesClassifier\n",
    "from sklearn.metrics import confusion_matrix\n",
    "from sklearn.metrics import classification_report"
   ]
  },
  {
   "cell_type": "markdown",
   "metadata": {},
   "source": [
    "# Pre-processing"
   ]
  },
  {
   "cell_type": "code",
   "execution_count": 3,
   "metadata": {
    "scrolled": true
   },
   "outputs": [
    {
     "data": {
      "text/html": [
       "<div>\n",
       "<style scoped>\n",
       "    .dataframe tbody tr th:only-of-type {\n",
       "        vertical-align: middle;\n",
       "    }\n",
       "\n",
       "    .dataframe tbody tr th {\n",
       "        vertical-align: top;\n",
       "    }\n",
       "\n",
       "    .dataframe thead th {\n",
       "        text-align: right;\n",
       "    }\n",
       "</style>\n",
       "<table border=\"1\" class=\"dataframe\">\n",
       "  <thead>\n",
       "    <tr style=\"text-align: right;\">\n",
       "      <th></th>\n",
       "      <th>subreddit</th>\n",
       "      <th>text</th>\n",
       "    </tr>\n",
       "  </thead>\n",
       "  <tbody>\n",
       "    <tr>\n",
       "      <th>0</th>\n",
       "      <td>0</td>\n",
       "      <td>https://www.dailymail.co.uk/news/article-7922...</td>\n",
       "    </tr>\n",
       "    <tr>\n",
       "      <th>1</th>\n",
       "      <td>0</td>\n",
       "      <td>There is a search engine called [Ecosia](https...</td>\n",
       "    </tr>\n",
       "    <tr>\n",
       "      <th>2</th>\n",
       "      <td>0</td>\n",
       "      <td>[Vandana Shiva](https://youtu.be/MNM833K22LM) ...</td>\n",
       "    </tr>\n",
       "    <tr>\n",
       "      <th>3</th>\n",
       "      <td>0</td>\n",
       "      <td>If you have a weak stomach, I wouldn’t watch t...</td>\n",
       "    </tr>\n",
       "    <tr>\n",
       "      <th>4</th>\n",
       "      <td>0</td>\n",
       "      <td>Breathing Pattern Disorders Caused by Environ...</td>\n",
       "    </tr>\n",
       "  </tbody>\n",
       "</table>\n",
       "</div>"
      ],
      "text/plain": [
       "   subreddit                                               text\n",
       "0          0   https://www.dailymail.co.uk/news/article-7922...\n",
       "1          0  There is a search engine called [Ecosia](https...\n",
       "2          0  [Vandana Shiva](https://youtu.be/MNM833K22LM) ...\n",
       "3          0  If you have a weak stomach, I wouldn’t watch t...\n",
       "4          0   Breathing Pattern Disorders Caused by Environ..."
      ]
     },
     "execution_count": 3,
     "metadata": {},
     "output_type": "execute_result"
    }
   ],
   "source": [
    "# read in csv files\n",
    "posts = pd.read_csv('../data/posts_clean.csv')\n",
    "posts.head()"
   ]
  },
  {
   "cell_type": "code",
   "execution_count": 4,
   "metadata": {},
   "outputs": [
    {
     "data": {
      "text/plain": [
       "62"
      ]
     },
     "execution_count": 4,
     "metadata": {},
     "output_type": "execute_result"
    }
   ],
   "source": [
    "# check duplicates\n",
    "posts.duplicated().sum()"
   ]
  },
  {
   "cell_type": "code",
   "execution_count": 5,
   "metadata": {},
   "outputs": [],
   "source": [
    "# Drop second duplicated column\n",
    "posts.drop_duplicates(keep='first', inplace=True)"
   ]
  },
  {
   "cell_type": "code",
   "execution_count": 6,
   "metadata": {},
   "outputs": [
    {
     "data": {
      "text/plain": [
       "(5455, 2)"
      ]
     },
     "execution_count": 6,
     "metadata": {},
     "output_type": "execute_result"
    }
   ],
   "source": [
    "# Check shape\n",
    "posts.shape"
   ]
  },
  {
   "cell_type": "code",
   "execution_count": 7,
   "metadata": {
    "scrolled": false
   },
   "outputs": [],
   "source": [
    "# Clean the text column by removing html code \n",
    "# and making all letters lowercase\n",
    "posts[\"text\"] = posts[\"text\"].str.replace('[^a-zA-Z ]', ' ')\n",
    "posts[\"text\"] = posts[\"text\"].str.replace(r'http\\S+', '')\n",
    "posts[\"text\"] = posts[\"text\"].str.replace(r'\\[http\\S+', '')\n",
    "posts[\"text\"] = [post.lower().strip() for post in posts['text']]"
   ]
  },
  {
   "cell_type": "code",
   "execution_count": 8,
   "metadata": {},
   "outputs": [
    {
     "name": "stdout",
     "output_type": "stream",
     "text": [
      "r/environment has 1462650 more characters than r/technology.\n",
      "Average character count for r/environment posts: 829.125960061444\n",
      "Average character count for r/technology posts: 244.2630655910207\n"
     ]
    }
   ],
   "source": [
    "# Separate dataframes for each subreddit\n",
    "env_posts = posts[posts['subreddit']==0]\n",
    "tech_posts = posts[posts['subreddit']==1]\n",
    "\n",
    "# Get character count for each subreddit\n",
    "env_char = sum([len(post) for post in env_posts['text']])\n",
    "tech_char = sum([len(post) for post in tech_posts['text']])\n",
    "\n",
    "# Get average post length\n",
    "env_avg = env_char / len(env_posts)\n",
    "tech_avg = tech_char / len(tech_posts)\n",
    "                           \n",
    "print(f\"r/environment has {env_char - tech_char} more characters than r/technology.\")\n",
    "print(f\"Average character count for r/environment posts: {env_avg}\")\n",
    "print(f\"Average character count for r/technology posts: {tech_avg}\")"
   ]
  },
  {
   "cell_type": "code",
   "execution_count": 9,
   "metadata": {
    "scrolled": true
   },
   "outputs": [
    {
     "data": {
      "image/png": "[encoded data removed]",
      "text/plain": [
       "<Figure size 720x288 with 2 Axes>"
      ]
     },
     "metadata": {
      "needs_background": "light"
     },
     "output_type": "display_data"
    }
   ],
   "source": [
    "plt.figure(figsize=(10,4)) \n",
    "\n",
    "objects = ('r/environment', 'r/technology')\n",
    "y_pos = np.arange(len(objects))\n",
    "height1 = [len(env_posts), len(tech_posts)]\n",
    "height2 = [env_avg, tech_avg]\n",
    "\n",
    "# Visualize difference in number of posts\n",
    "plt.subplot(1,2,1)\n",
    "plt.bar(y_pos, height1, align='center', alpha=0.6,)\n",
    "plt.xticks(y_pos, objects)\n",
    "plt.xlabel('Subreddit')\n",
    "plt.ylabel('Avg Character Count')\n",
    "plt.title('Number of Posts')\n",
    "\n",
    "# Visualize difference in avg post length\n",
    "plt.subplot(1,2,2)\n",
    "plt.bar(y_pos, height2, align='center', alpha=0.6,)\n",
    "plt.xticks(y_pos, objects)\n",
    "plt.ylabel('Avg Character Count')\n",
    "plt.xlabel('Subreddit')\n",
    "plt.title('Length of Posts');"
   ]
  },
  {
   "cell_type": "markdown",
   "metadata": {},
   "source": [
    "### Train, test, split"
   ]
  },
  {
   "cell_type": "code",
   "execution_count": 10,
   "metadata": {},
   "outputs": [],
   "source": [
    "# prepare the data for modeling\n",
    "X = posts['text']\n",
    "y = posts['subreddit']"
   ]
  },
  {
   "cell_type": "code",
   "execution_count": 13,
   "metadata": {},
   "outputs": [],
   "source": [
    "# Split the data into the training and testing sets.\n",
    "X_train, X_test, y_train, y_test = train_test_split(X,\n",
    "                                                    y,\n",
    "                                                    stratify=y,\n",
    "                                                    random_state=42)"
   ]
  },
  {
   "cell_type": "code",
   "execution_count": 14,
   "metadata": {
    "scrolled": true
   },
   "outputs": [
    {
     "name": "stdout",
     "output_type": "stream",
     "text": [
      "There are a total of 4091 posts in the training set.\n"
     ]
    }
   ],
   "source": [
    "# Get the number of posts for X train (4091)\n",
    "total_posts = X_train.shape[0]\n",
    "print(f'There are a total of {total_posts} posts in the training set.')"
   ]
  },
  {
   "cell_type": "markdown",
   "metadata": {},
   "source": [
    "## CountVectorize"
   ]
  },
  {
   "cell_type": "code",
   "execution_count": 15,
   "metadata": {},
   "outputs": [],
   "source": [
    "# Add my own stopwords to SKlearn's set of stopwords\n",
    "stops_sk = ENGLISH_STOP_WORDS.union({'http', 'https', 'www', 'com', 'org', 'amp'})\n",
    "\n",
    "# Add my own stopwords to nltk's set of stopwords\n",
    "stops_nltk = stopwords.words('english') + ['http', 'https', 'www', 'com', 'org', 'amp']"
   ]
  },
  {
   "cell_type": "code",
   "execution_count": 16,
   "metadata": {},
   "outputs": [],
   "source": [
    "# Use CountVectorize to explore common words\n",
    "cvec = CountVectorizer(stop_words=stops_sk, ngram_range=(1, 1))\n",
    "\n",
    "X_train_cvec = cvec.fit_transform(X_train)\n",
    "X_test_cvec = cvec.transform(X_test)"
   ]
  },
  {
   "cell_type": "code",
   "execution_count": 17,
   "metadata": {},
   "outputs": [
    {
     "data": {
      "image/png": "[encoded data removed]",
      "text/plain": [
       "<Figure size 432x288 with 1 Axes>"
      ]
     },
     "metadata": {
      "needs_background": "light"
     },
     "output_type": "display_data"
    }
   ],
   "source": [
    "# Put vectorized words into a df to explore - todense() will return a dense matrix\n",
    "words = pd.DataFrame(X_train_cvec.todense(), columns=cvec.get_feature_names())\n",
    "\n",
    "# check which words are appearing the most\n",
    "words.sum().sort_values(ascending=False).head(20).plot(kind='barh');"
   ]
  },
  {
   "cell_type": "markdown",
   "metadata": {},
   "source": [
    "### Tokenize, Stem, Lemmatize"
   ]
  },
  {
   "cell_type": "code",
   "execution_count": 18,
   "metadata": {},
   "outputs": [],
   "source": [
    "# Instantiate tokenizer and stemmer\n",
    "tokenizer = RegexpTokenizer(r'\\w+')\n",
    "p_stemmer = PorterStemmer()\n",
    "\n",
    "# Stem X_train and save words to empty list\n",
    "stemmed_words=[]\n",
    "\n",
    "for word in X_train:\n",
    "    tokens = tokenizer.tokenize(word)\n",
    "    row = [p_stemmer.stem(token) for token in tokens]\n",
    "    stemmed_words.append(row)"
   ]
  },
  {
   "cell_type": "code",
   "execution_count": 19,
   "metadata": {},
   "outputs": [
    {
     "data": {
      "text/plain": [
       "['from game or phone interfac vr or keyboard and mous or ani other peripher to ani other type of user interfac what do you think is a realli obviou improv that s miss for exampl when i m in firefox and i ctrl t to open a new tab my cursor is in the search bar but if i go type say youtub and want to search there onc it load now i have to take my hand off the keyboard to click the right field to start type or tab an unknown per page number of time through invis menu frame that don t highlight until i get the cursor to the search bar whi isn t there some kind of default focu flag in css or on page in gener that can say onc load in focu set cursor here so develop can tag their search bar as their start point if there is whi the badword don t youtub use it let s talk ui what improv would make your day to day experi better while use ani devic or softwar']"
      ]
     },
     "execution_count": 19,
     "metadata": {},
     "output_type": "execute_result"
    }
   ],
   "source": [
    "# Join the stemmed words together and save as X_train\n",
    "X_train = [' '.join(row) for row in stemmed_words]\n",
    "X_train[:1]"
   ]
  },
  {
   "cell_type": "code",
   "execution_count": 20,
   "metadata": {},
   "outputs": [],
   "source": [
    "# Stem X_test and save words to empty list\n",
    "stemmed_words=[]\n",
    "\n",
    "for word in X_test:\n",
    "    tokens = tokenizer.tokenize(word)\n",
    "    row = [p_stemmer.stem(token) for token in tokens]\n",
    "    stemmed_words.append(row)"
   ]
  },
  {
   "cell_type": "code",
   "execution_count": 21,
   "metadata": {},
   "outputs": [
    {
     "data": {
      "text/plain": [
       "['thi is break news will chang text onc link is avail the ravin bushfir on kangaroo island south australia ha been contain after more than three week of activ firefight',\n",
       " 'my last post on thi topic got delet what are devic that onli messag with no servic or wifi at all up to an mile rang like a devic transmitt or app']"
      ]
     },
     "execution_count": 21,
     "metadata": {},
     "output_type": "execute_result"
    }
   ],
   "source": [
    "# Join the stemmed words together and save as X_test\n",
    "X_test = [' '.join(row) for row in stemmed_words]\n",
    "X_test[:2]"
   ]
  },
  {
   "cell_type": "markdown",
   "metadata": {},
   "source": [
    "# Modeling"
   ]
  },
  {
   "cell_type": "code",
   "execution_count": 22,
   "metadata": {},
   "outputs": [
    {
     "data": {
      "text/plain": [
       "1    0.522727\n",
       "0    0.477273\n",
       "Name: subreddit, dtype: float64"
      ]
     },
     "execution_count": 22,
     "metadata": {},
     "output_type": "execute_result"
    }
   ],
   "source": [
    "# Get baseline accuracy\n",
    "y_test.value_counts(normalize=True)"
   ]
  },
  {
   "cell_type": "markdown",
   "metadata": {},
   "source": [
    "The dataset is slightly unbalanced. The baseline accuracy will be based off the majority class (1), so it is 52.26%. If we see accuracy scores lower than the baseline accuracy it would indicate the models are performing worse than randomly guessing 52.26% of the posts are coming from the technology subreddit.  "
   ]
  },
  {
   "cell_type": "markdown",
   "metadata": {},
   "source": [
    "## Logistic Regression\n",
    "I start with a logistic regression model because it is easy to interpret and can indicate which variables are considered important by the model. Count vectorizer provides a numeric representation of how often certain words appear in a document."
   ]
  },
  {
   "cell_type": "code",
   "execution_count": 26,
   "metadata": {},
   "outputs": [],
   "source": [
    "pipe_cvec_lr = Pipeline([('cvec', CountVectorizer()),\n",
    "                         ('lr', LogisticRegression(random_state=42))])"
   ]
  },
  {
   "cell_type": "code",
   "execution_count": 27,
   "metadata": {},
   "outputs": [
    {
     "name": "stdout",
     "output_type": "stream",
     "text": [
      "Best Score: 0.9269157147887652\n",
      "Train Score: 0.9848447812270839\n",
      "Test Score: 0.9288856304985337\n",
      "Best Params: {'cvec__max_df': 0.85, 'cvec__max_features': 2500, 'cvec__min_df': 2, 'cvec__ngram_range': (1, 2), 'cvec__stop_words': ['i', 'me', 'my', 'myself', 'we', 'our', 'ours', 'ourselves', 'you', \"you're\", \"you've\", \"you'll\", \"you'd\", 'your', 'yours', 'yourself', 'yourselves', 'he', 'him', 'his', 'himself', 'she', \"she's\", 'her', 'hers', 'herself', 'it', \"it's\", 'its', 'itself', 'they', 'them', 'their', 'theirs', 'themselves', 'what', 'which', 'who', 'whom', 'this', 'that', \"that'll\", 'these', 'those', 'am', 'is', 'are', 'was', 'were', 'be', 'been', 'being', 'have', 'has', 'had', 'having', 'do', 'does', 'did', 'doing', 'a', 'an', 'the', 'and', 'but', 'if', 'or', 'because', 'as', 'until', 'while', 'of', 'at', 'by', 'for', 'with', 'about', 'against', 'between', 'into', 'through', 'during', 'before', 'after', 'above', 'below', 'to', 'from', 'up', 'down', 'in', 'out', 'on', 'off', 'over', 'under', 'again', 'further', 'then', 'once', 'here', 'there', 'when', 'where', 'why', 'how', 'all', 'any', 'both', 'each', 'few', 'more', 'most', 'other', 'some', 'such', 'no', 'nor', 'not', 'only', 'own', 'same', 'so', 'than', 'too', 'very', 's', 't', 'can', 'will', 'just', 'don', \"don't\", 'should', \"should've\", 'now', 'd', 'll', 'm', 'o', 're', 've', 'y', 'ain', 'aren', \"aren't\", 'couldn', \"couldn't\", 'didn', \"didn't\", 'doesn', \"doesn't\", 'hadn', \"hadn't\", 'hasn', \"hasn't\", 'haven', \"haven't\", 'isn', \"isn't\", 'ma', 'mightn', \"mightn't\", 'mustn', \"mustn't\", 'needn', \"needn't\", 'shan', \"shan't\", 'shouldn', \"shouldn't\", 'wasn', \"wasn't\", 'weren', \"weren't\", 'won', \"won't\", 'wouldn', \"wouldn't\", 'http', 'https', 'www', 'com', 'org', 'amp'], 'lr__C': 1}\n"
     ]
    }
   ],
   "source": [
    "params_cvec_lr = {\n",
    "    'cvec__stop_words':[stops_sk, stops_nltk],\n",
    "    'cvec__max_features': [2500, 3000, 3500],\n",
    "    'cvec__min_df': [2, 3],\n",
    "    'cvec__max_df': [.85, .9],\n",
    "    'cvec__ngram_range': [(1,1), (1,2)], \n",
    "    'lr__C': [0.01, 0.1, 1, 10]\n",
    "}\n",
    "\n",
    "# Instantiate GridSearchCV\n",
    "gs_cvec_lr = GridSearchCV(pipe_cvec_lr,\n",
    "                  param_grid=params_cvec_lr, \n",
    "                  cv=3) \n",
    "\n",
    "# Fit GridSearch to training data.\n",
    "gs_cvec_lr.fit(X_train, y_train)\n",
    "\n",
    "# Score model and check best params/model\n",
    "print(f'Best Score: {gs_cvec_lr.best_score_}')\n",
    "print(f'Train Score: {gs_cvec_lr.score(X_train, y_train)}')\n",
    "print(f'Test Score: {gs_cvec_lr.score(X_test, y_test)}')\n",
    "print(f'Best Params: {gs_cvec_lr.best_params_}')"
   ]
  },
  {
   "cell_type": "code",
   "execution_count": 28,
   "metadata": {},
   "outputs": [],
   "source": [
    "# Generate predictions\n",
    "gs_cvec_lr_preds = gs_cvec_lr.predict(X_test)"
   ]
  },
  {
   "cell_type": "code",
   "execution_count": 29,
   "metadata": {},
   "outputs": [
    {
     "name": "stdout",
     "output_type": "stream",
     "text": [
      "Specificity: 0.8909\n",
      "Sensitivity: 0.9635\n"
     ]
    }
   ],
   "source": [
    "# Save TN/FP/FN/TP values.\n",
    "tn, fp, fn, tp = confusion_matrix(y_test, gs_cvec_lr_preds).ravel()\n",
    "\n",
    "# Calculate sensitivity and specificity\n",
    "spec = tn / (tn + fp)\n",
    "sens = tp / (tp + fn)\n",
    "\n",
    "print(f'Specificity: {round(spec,4)}')\n",
    "print(f'Sensitivity: {round(sens,4)}')"
   ]
  },
  {
   "cell_type": "markdown",
   "metadata": {},
   "source": [
    "### Interpretation\n",
    "- The model has a strong performance, with the train set scoring higher than the test set - model is overfitting to the data.\n",
    "- hyperparameters: considering trying lower values for max_df"
   ]
  },
  {
   "cell_type": "markdown",
   "metadata": {},
   "source": [
    "## Logistic Regression 2\n",
    "TFIDFVectorizer returns a word's value proportionally to count. It is offset by the frequency of the word in the corpus."
   ]
  },
  {
   "cell_type": "code",
   "execution_count": 26,
   "metadata": {},
   "outputs": [],
   "source": [
    "pipe_tfidf_lr = Pipeline([('tfidf', TfidfVectorizer()),\n",
    "                         ('lr', LogisticRegression(random_state=42, max_iter=400))])"
   ]
  },
  {
   "cell_type": "code",
   "execution_count": 27,
   "metadata": {},
   "outputs": [
    {
     "name": "stdout",
     "output_type": "stream",
     "text": [
      "Best Score: 0.9408471265084998\n",
      "Train Score: 0.9958445367880714\n",
      "Test Score: 0.9464809384164223\n",
      "Best Params: {'lr__C': 15, 'tfidf__max_df': 0.9, 'tfidf__max_features': 3500, 'tfidf__min_df': 2, 'tfidf__ngram_range': (1, 2), 'tfidf__stop_words': ['i', 'me', 'my', 'myself', 'we', 'our', 'ours', 'ourselves', 'you', \"you're\", \"you've\", \"you'll\", \"you'd\", 'your', 'yours', 'yourself', 'yourselves', 'he', 'him', 'his', 'himself', 'she', \"she's\", 'her', 'hers', 'herself', 'it', \"it's\", 'its', 'itself', 'they', 'them', 'their', 'theirs', 'themselves', 'what', 'which', 'who', 'whom', 'this', 'that', \"that'll\", 'these', 'those', 'am', 'is', 'are', 'was', 'were', 'be', 'been', 'being', 'have', 'has', 'had', 'having', 'do', 'does', 'did', 'doing', 'a', 'an', 'the', 'and', 'but', 'if', 'or', 'because', 'as', 'until', 'while', 'of', 'at', 'by', 'for', 'with', 'about', 'against', 'between', 'into', 'through', 'during', 'before', 'after', 'above', 'below', 'to', 'from', 'up', 'down', 'in', 'out', 'on', 'off', 'over', 'under', 'again', 'further', 'then', 'once', 'here', 'there', 'when', 'where', 'why', 'how', 'all', 'any', 'both', 'each', 'few', 'more', 'most', 'other', 'some', 'such', 'no', 'nor', 'not', 'only', 'own', 'same', 'so', 'than', 'too', 'very', 's', 't', 'can', 'will', 'just', 'don', \"don't\", 'should', \"should've\", 'now', 'd', 'll', 'm', 'o', 're', 've', 'y', 'ain', 'aren', \"aren't\", 'couldn', \"couldn't\", 'didn', \"didn't\", 'doesn', \"doesn't\", 'hadn', \"hadn't\", 'hasn', \"hasn't\", 'haven', \"haven't\", 'isn', \"isn't\", 'ma', 'mightn', \"mightn't\", 'mustn', \"mustn't\", 'needn', \"needn't\", 'shan', \"shan't\", 'shouldn', \"shouldn't\", 'wasn', \"wasn't\", 'weren', \"weren't\", 'won', \"won't\", 'wouldn', \"wouldn't\", 'http', 'https', 'www', 'com', 'org', 'amp']}\n"
     ]
    }
   ],
   "source": [
    "# Search over the following values of hyperparameters:\n",
    "params_tfidf_lr = {\n",
    "    'tfidf__stop_words':[stops_sk, stops_nltk],\n",
    "    'tfidf__max_features': [3000, 3500],\n",
    "    'tfidf__min_df': [2, 3],\n",
    "    'tfidf__max_df': [.9, .95],\n",
    "    'tfidf__ngram_range': [(1,2)],\n",
    "    'lr__C': [10, 15, 20]\n",
    "}\n",
    "\n",
    "# Instantiate GridSearchCV\n",
    "gs_tfidf_lr = GridSearchCV(pipe_tfidf_lr,\n",
    "                  param_grid=params_tfidf_lr, \n",
    "                  cv=3) \n",
    "\n",
    "# Fit GridSearch to training data.\n",
    "gs_tfidf_lr.fit(X_train, y_train)\n",
    "\n",
    "# Score model and check best params/model\n",
    "print(f'Best Score: {gs_tfidf_lr.best_score_}')\n",
    "print(f'Train Score: {gs_tfidf_lr.score(X_train, y_train)}')\n",
    "print(f'Test Score: {gs_tfidf_lr.score(X_test, y_test)}')\n",
    "print(f'Best Params: {gs_tfidf_lr.best_params_}')"
   ]
  },
  {
   "cell_type": "code",
   "execution_count": 32,
   "metadata": {},
   "outputs": [],
   "source": [
    "# Generate predictions\n",
    "gs_tfidf_lr_preds = gs_tfidf_lr.predict(X_test)"
   ]
  },
  {
   "cell_type": "code",
   "execution_count": 33,
   "metadata": {},
   "outputs": [
    {
     "name": "stdout",
     "output_type": "stream",
     "text": [
      "Specificity: 0.9247\n",
      "Sensitivity: 0.9691\n"
     ]
    }
   ],
   "source": [
    "# Save TN/FP/FN/TP values.\n",
    "tn, fp, fn, tp = confusion_matrix(y_test, gs_tfidf_lr_preds).ravel()\n",
    "\n",
    "# Calculate sensitivity and specificity\n",
    "spec = tn / (tn + fp)\n",
    "sens = tp / (tp + fn)\n",
    "\n",
    "print(f'Specificity: {round(spec,4)}')\n",
    "print(f'Sensitivity: {round(sens,4)}')"
   ]
  },
  {
   "cell_type": "markdown",
   "metadata": {},
   "source": [
    "### Interpretation\n",
    "- The model outperformed the baseline and performed better than the logistic regression model using Countvectorizer\n",
    "- The models are classifying very well, but this is not great for my problem statement! There is a clear distinction between the technology and environment subreddits."
   ]
  },
  {
   "cell_type": "markdown",
   "metadata": {},
   "source": [
    "## Multinomial Naive Bayes\n",
    "A Multinomial Naive Bayes model is used because count vectorizer gives us an integer count of words in a document. It's a very fast modeling algorithm and an excellent classifier, outperforming more complicated models."
   ]
  },
  {
   "cell_type": "code",
   "execution_count": 34,
   "metadata": {
    "scrolled": true
   },
   "outputs": [
    {
     "name": "stdout",
     "output_type": "stream",
     "text": [
      "Train Score: 0.9643119041799071\n",
      "Test Score: 0.9332844574780058\n"
     ]
    }
   ],
   "source": [
    "# Instantiate Naive Bayes model\n",
    "mnb = MultinomialNB()\n",
    "cvec = CountVectorizer()\n",
    "\n",
    "# Countvectorize on x_train and x_test data\n",
    "X_train_cvec = cvec.fit_transform(X_train)\n",
    "X_test_cvec = cvec.transform(X_test)\n",
    "\n",
    "# Fit MNB to training data\n",
    "mnb.fit(X_train_cvec, y_train)\n",
    "\n",
    "# Make predictions\n",
    "y_pred_train = mnb.predict(X_train_cvec)\n",
    "y_pred_test = mnb.predict(X_test_cvec)\n",
    "\n",
    "# Score model and check best params/model\n",
    "print(f'Train Score: {mnb.score(X_train_cvec, y_train)}')\n",
    "print(f'Test Score: {mnb.score(X_test_cvec, y_test)}') "
   ]
  },
  {
   "cell_type": "code",
   "execution_count": 35,
   "metadata": {},
   "outputs": [
    {
     "name": "stdout",
     "output_type": "stream",
     "text": [
      "Specificity: 0.9739\n",
      "Sensitivity: 0.8962\n"
     ]
    }
   ],
   "source": [
    "# Save TN/FP/FN/TP values.\n",
    "tn, fp, fn, tp = confusion_matrix(y_test, y_pred_test).ravel()\n",
    "\n",
    "# Calculate sensitivity and specificity\n",
    "spec = tn / (tn + fp)\n",
    "sens = tp / (tp + fn)\n",
    "\n",
    "print(f'Specificity: {round(spec,4)}')\n",
    "print(f'Sensitivity: {round(sens,4)}')"
   ]
  },
  {
   "cell_type": "markdown",
   "metadata": {},
   "source": [
    "### Interpretation\n",
    "- It was worth testing this model, but important to recognize it's shortcomings. Naive Bayes models assume that all of our features are independent of one another, which isn't necessarily true with language data. Certain words are more likely to follow other words, and certain words are less likely to follow other words."
   ]
  },
  {
   "cell_type": "markdown",
   "metadata": {},
   "source": [
    "## Random Forest\n",
    "Random Forests are relatively simple to use because they require very few parameters to set and they perform pretty well. "
   ]
  },
  {
   "cell_type": "code",
   "execution_count": 36,
   "metadata": {},
   "outputs": [],
   "source": [
    "pipe_tfidf_rf = Pipeline([('tfidf', TfidfVectorizer()),\n",
    "                         ('rf', RandomForestClassifier(random_state=42))])"
   ]
  },
  {
   "cell_type": "code",
   "execution_count": 37,
   "metadata": {},
   "outputs": [
    {
     "name": "stdout",
     "output_type": "stream",
     "text": [
      "Best Params: {'rf__max_depth': None, 'rf__min_samples_split': 4, 'rf__n_estimators': 100, 'tfidf__max_df': 0.9, 'tfidf__max_features': 2500, 'tfidf__min_df': 2, 'tfidf__ngram_range': (1, 2), 'tfidf__stop_words': ['i', 'me', 'my', 'myself', 'we', 'our', 'ours', 'ourselves', 'you', \"you're\", \"you've\", \"you'll\", \"you'd\", 'your', 'yours', 'yourself', 'yourselves', 'he', 'him', 'his', 'himself', 'she', \"she's\", 'her', 'hers', 'herself', 'it', \"it's\", 'its', 'itself', 'they', 'them', 'their', 'theirs', 'themselves', 'what', 'which', 'who', 'whom', 'this', 'that', \"that'll\", 'these', 'those', 'am', 'is', 'are', 'was', 'were', 'be', 'been', 'being', 'have', 'has', 'had', 'having', 'do', 'does', 'did', 'doing', 'a', 'an', 'the', 'and', 'but', 'if', 'or', 'because', 'as', 'until', 'while', 'of', 'at', 'by', 'for', 'with', 'about', 'against', 'between', 'into', 'through', 'during', 'before', 'after', 'above', 'below', 'to', 'from', 'up', 'down', 'in', 'out', 'on', 'off', 'over', 'under', 'again', 'further', 'then', 'once', 'here', 'there', 'when', 'where', 'why', 'how', 'all', 'any', 'both', 'each', 'few', 'more', 'most', 'other', 'some', 'such', 'no', 'nor', 'not', 'only', 'own', 'same', 'so', 'than', 'too', 'very', 's', 't', 'can', 'will', 'just', 'don', \"don't\", 'should', \"should've\", 'now', 'd', 'll', 'm', 'o', 're', 've', 'y', 'ain', 'aren', \"aren't\", 'couldn', \"couldn't\", 'didn', \"didn't\", 'doesn', \"doesn't\", 'hadn', \"hadn't\", 'hasn', \"hasn't\", 'haven', \"haven't\", 'isn', \"isn't\", 'ma', 'mightn', \"mightn't\", 'mustn', \"mustn't\", 'needn', \"needn't\", 'shan', \"shan't\", 'shouldn', \"shouldn't\", 'wasn', \"wasn't\", 'weren', \"weren't\", 'won', \"won't\", 'wouldn', \"wouldn't\", 'http', 'https', 'www', 'com', 'org', 'amp']}\n",
      "Best Score: 0.9183581370230839\n",
      "Train Score: 0.9982889269127353\n",
      "Test Score: 0.9208211143695014\n"
     ]
    }
   ],
   "source": [
    "params_tfidf_rf ={\n",
    "    'tfidf__stop_words':[stops_nltk],\n",
    "    'tfidf__max_features': [2500, 3000],\n",
    "    'tfidf__min_df': [2, 3],\n",
    "    'tfidf__max_df': [.9, .95],\n",
    "    'tfidf__ngram_range': [(1,1), (1,2)],\n",
    "    'rf__n_estimators':[50,100],\n",
    "    'rf__max_depth':[None,1,2,3,4],\n",
    "    'rf__min_samples_split':[2,4,6]\n",
    "}\n",
    "\n",
    "# Instantiate Gridsearch\n",
    "gs_tfidf_rf = GridSearchCV(pipe_tfidf_rf, \n",
    "                     param_grid=params_tfidf_rf, \n",
    "                     cv=3)\n",
    "\n",
    "# Fit Gridsearch to the training data\n",
    "gs_tfidf_rf.fit(X_train, y_train)\n",
    "\n",
    "# Score model and check best params/model\n",
    "print(f'Best Params: {gs_tfidf_rf.best_params_}')\n",
    "print(f'Best Score: {gs_tfidf_rf.best_score_}')\n",
    "print(f'Train Score: {gs_tfidf_rf.score(X_train, y_train)}')\n",
    "print(f'Test Score: {gs_tfidf_rf.score(X_test, y_test)}') "
   ]
  },
  {
   "cell_type": "code",
   "execution_count": 38,
   "metadata": {},
   "outputs": [],
   "source": [
    "# Generate predictions\n",
    "gs_tfidf_rf_preds = gs_tfidf_rf.predict(X_test)"
   ]
  },
  {
   "cell_type": "code",
   "execution_count": 39,
   "metadata": {},
   "outputs": [
    {
     "name": "stdout",
     "output_type": "stream",
     "text": [
      "Specificity: 0.9309\n",
      "Sensitivity: 0.9116\n"
     ]
    }
   ],
   "source": [
    "# Save TN/FP/FN/TP values.\n",
    "tn, fp, fn, tp = confusion_matrix(y_test, gs_tfidf_rf_preds).ravel()\n",
    "\n",
    "# Calculate sensitivity and specificity\n",
    "spec = tn / (tn + fp)\n",
    "sens = tp / (tp + fn)\n",
    "\n",
    "print(f'Specificity: {round(spec,4)}')\n",
    "print(f'Sensitivity: {round(sens,4)}')"
   ]
  },
  {
   "cell_type": "markdown",
   "metadata": {},
   "source": [
    "### Interpretation\n",
    "- The Random Forest Model is overfit, indicated by the significantly higher training score. This can also be concluded because the best max_depth parameter is 'None', which indicates an overfit tree.\n",
    "- As we increased variation by adding the min samples split parameter, we saw a slight decrease in the model's performance. The min_samples_split parameter could be driving max_depth to none. \n",
    "- Parameters indicate a lower number of trees is ideal."
   ]
  },
  {
   "cell_type": "markdown",
   "metadata": {},
   "source": [
    "| model | transformer | estimator | train accuracy | test accuracy | sensitivity | specificity |\n",
    "|-------|--------------|-------------|-----------------|----------|------------|------------------|\n",
    "| 1 | CountVectorizer | Logistic Regression | 98.5% | 92.9% | 96.4% | 89.1% |\n",
    "| 2 | TfidfVectorizer | Logistic Regression | 99.6% | 94.6% | 96.9% | 92.5% |\n",
    "| 3 | CountVectorizer | Multinomial Naive Bayes | 96.4% | 93.3% | 89.6% | 97.4% |\n",
    "| 4 | TfidfVectorizer | Random Forest Classifier | 99.8% | 92.1% | 91.2% | 93.1% |"
   ]
  },
  {
   "cell_type": "markdown",
   "metadata": {},
   "source": [
    "# References\n",
    "\n",
    "Preprocessing and EDA  \n",
    "https://stackoverflow.com/questions/11331982/how-to-remove-any-url-within-a-string-in-python  \n",
    "https://pythonspot.com/matplotlib-bar-chart/  "
   ]
  }
 ],
 "metadata": {
  "kernelspec": {
   "display_name": "Python 3",
   "language": "python",
   "name": "python3"
  },
  "language_info": {
   "codemirror_mode": {
    "name": "ipython",
    "version": 3
   },
   "file_extension": ".py",
   "mimetype": "text/x-python",
   "name": "python",
   "nbconvert_exporter": "python",
   "pygments_lexer": "ipython3",
   "version": "3.7.6"
  },
  "toc": {
   "base_numbering": 1,
   "nav_menu": {},
   "number_sections": true,
   "sideBar": true,
   "skip_h1_title": false,
   "title_cell": "Table of Contents",
   "title_sidebar": "Contents",
   "toc_cell": false,
   "toc_position": {
    "height": "calc(100% - 180px)",
    "left": "10px",
    "top": "150px",
    "width": "206.989px"
   },
   "toc_section_display": true,
   "toc_window_display": true
  }
 },
 "nbformat": 4,
 "nbformat_minor": 2
}
