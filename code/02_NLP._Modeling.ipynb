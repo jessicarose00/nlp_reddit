{
 "cells": [
  {
   "cell_type": "markdown",
   "metadata": {},
   "source": [
    "# Pre-Processing & Modeling"
   ]
  },
  {
   "cell_type": "markdown",
   "metadata": {},
   "source": [
    "### Imports"
   ]
  },
  {
   "cell_type": "code",
   "execution_count": 1,
   "metadata": {},
   "outputs": [],
   "source": [
    "# Standard imports\n",
    "import pandas as pd\n",
    "import numpy as np\n",
    "import seaborn as sns\n",
    "import matplotlib.pyplot as plt\n",
    "\n",
    "\n",
    "# Processing and Models\n",
    "import regex as re\n",
    "from bs4 import BeautifulSoup \n",
    "from nltk.corpus import stopwords\n",
    "from nltk.tokenize import RegexpTokenizer\n",
    "from nltk.stem.porter import PorterStemmer\n",
    "from nltk.probability import FreqDist\n",
    "\n",
    "from sklearn.model_selection import train_test_split, GridSearchCV\n",
    "from sklearn.pipeline import Pipeline\n",
    "from sklearn.feature_extraction.text import CountVectorizer, TfidfVectorizer\n",
    "from sklearn.linear_model import LogisticRegression\n",
    "from sklearn.naive_bayes import MultinomialNB\n",
    "from sklearn import metrics\n",
    "from sklearn.feature_extraction.text import ENGLISH_STOP_WORDS\n",
    "from sklearn.ensemble import RandomForestClassifier, ExtraTreesClassifier\n",
    "from sklearn.metrics import confusion_matrix\n",
    "from sklearn.metrics import classification_report"
   ]
  },
  {
   "cell_type": "markdown",
   "metadata": {},
   "source": [
    "### Cleaning and EDA"
   ]
  },
  {
   "cell_type": "code",
   "execution_count": 2,
   "metadata": {
    "scrolled": true
   },
   "outputs": [
    {
     "data": {
      "text/html": [
       "<div>\n",
       "<style scoped>\n",
       "    .dataframe tbody tr th:only-of-type {\n",
       "        vertical-align: middle;\n",
       "    }\n",
       "\n",
       "    .dataframe tbody tr th {\n",
       "        vertical-align: top;\n",
       "    }\n",
       "\n",
       "    .dataframe thead th {\n",
       "        text-align: right;\n",
       "    }\n",
       "</style>\n",
       "<table border=\"1\" class=\"dataframe\">\n",
       "  <thead>\n",
       "    <tr style=\"text-align: right;\">\n",
       "      <th></th>\n",
       "      <th>subreddit</th>\n",
       "      <th>text</th>\n",
       "    </tr>\n",
       "  </thead>\n",
       "  <tbody>\n",
       "    <tr>\n",
       "      <th>0</th>\n",
       "      <td>0</td>\n",
       "      <td>https://www.dailymail.co.uk/news/article-7922...</td>\n",
       "    </tr>\n",
       "    <tr>\n",
       "      <th>1</th>\n",
       "      <td>0</td>\n",
       "      <td>There is a search engine called [Ecosia](https...</td>\n",
       "    </tr>\n",
       "    <tr>\n",
       "      <th>2</th>\n",
       "      <td>0</td>\n",
       "      <td>[Vandana Shiva](https://youtu.be/MNM833K22LM) ...</td>\n",
       "    </tr>\n",
       "    <tr>\n",
       "      <th>3</th>\n",
       "      <td>0</td>\n",
       "      <td>If you have a weak stomach, I wouldn’t watch t...</td>\n",
       "    </tr>\n",
       "    <tr>\n",
       "      <th>4</th>\n",
       "      <td>0</td>\n",
       "      <td>Breathing Pattern Disorders Caused by Environ...</td>\n",
       "    </tr>\n",
       "  </tbody>\n",
       "</table>\n",
       "</div>"
      ],
      "text/plain": [
       "   subreddit                                               text\n",
       "0          0   https://www.dailymail.co.uk/news/article-7922...\n",
       "1          0  There is a search engine called [Ecosia](https...\n",
       "2          0  [Vandana Shiva](https://youtu.be/MNM833K22LM) ...\n",
       "3          0  If you have a weak stomach, I wouldn’t watch t...\n",
       "4          0   Breathing Pattern Disorders Caused by Environ..."
      ]
     },
     "execution_count": 2,
     "metadata": {},
     "output_type": "execute_result"
    }
   ],
   "source": [
    "# read in csv files\n",
    "posts = pd.read_csv('../data/posts_clean.csv')\n",
    "posts.head()"
   ]
  },
  {
   "cell_type": "code",
   "execution_count": 118,
   "metadata": {},
   "outputs": [
    {
     "data": {
      "text/plain": [
       "62"
      ]
     },
     "execution_count": 118,
     "metadata": {},
     "output_type": "execute_result"
    }
   ],
   "source": [
    "# One more check for duplicates\n",
    "posts.duplicated().sum()"
   ]
  },
  {
   "cell_type": "code",
   "execution_count": 119,
   "metadata": {},
   "outputs": [],
   "source": [
    "# Drop second duplicated column\n",
    "posts.drop_duplicates(keep='first', inplace=True)"
   ]
  },
  {
   "cell_type": "code",
   "execution_count": 120,
   "metadata": {},
   "outputs": [
    {
     "data": {
      "text/plain": [
       "(5455, 2)"
      ]
     },
     "execution_count": 120,
     "metadata": {},
     "output_type": "execute_result"
    }
   ],
   "source": [
    "# Check the shape (5455, 2)\n",
    "posts.shape"
   ]
  },
  {
   "cell_type": "code",
   "execution_count": 121,
   "metadata": {
    "scrolled": false
   },
   "outputs": [],
   "source": [
    "# Clean the text column by removing html code \n",
    "# and making all letters lowercase\n",
    "posts[\"text\"] = posts[\"text\"].str.replace('[^a-zA-Z ]', ' ')\n",
    "posts[\"text\"] = posts[\"text\"].str.replace(r'http\\S+', '')\n",
    "posts[\"text\"] = posts[\"text\"].str.replace(r'\\[http\\S+', '')\n",
    "posts[\"text\"] = [post.lower().strip() for post in posts['text']]"
   ]
  },
  {
   "cell_type": "markdown",
   "metadata": {},
   "source": [
    "_Note: I spent an unspeakable amount of time trying to apply these cleaning steps to the text column with .map() and .apply() but could not figure it out. Recommendations welcome!_"
   ]
  },
  {
   "cell_type": "code",
   "execution_count": 122,
   "metadata": {},
   "outputs": [
    {
     "data": {
      "text/plain": [
       "1462650"
      ]
     },
     "execution_count": 122,
     "metadata": {},
     "output_type": "execute_result"
    }
   ],
   "source": [
    "# Separate dataframes for each subreddit\n",
    "env_posts = posts[posts['subreddit']==0]\n",
    "tech_posts = posts[posts['subreddit']==1]\n",
    "\n",
    "# Get character count for all posts in each subreddit\n",
    "env_char = sum([len(post) for post in env_posts['text']])\n",
    "tech_char = sum([len(post) for post in tech_posts['text']])\n",
    "\n",
    "# Check the difference in character counts\n",
    "# Env has 1,462,650 more characters\n",
    "env_char - tech_char"
   ]
  },
  {
   "cell_type": "code",
   "execution_count": 136,
   "metadata": {},
   "outputs": [
    {
     "data": {
      "image/png": "[encoded data removed]",
      "text/plain": [
       "<Figure size 432x288 with 1 Axes>"
      ]
     },
     "metadata": {
      "needs_background": "light"
     },
     "output_type": "display_data"
    }
   ],
   "source": [
    "# Plot difference in number of posts\n",
    "objects = ('r/environment', 'r/technology')\n",
    "y_pos = np.arange(len(objects))\n",
    "height = [len(env_posts), len(tech_posts)]\n",
    "\n",
    "plt.bar(y_pos, height, align='center', alpha=0.6,)\n",
    "plt.xticks(y_pos, objects)\n",
    "plt.ylabel('Number of Posts')\n",
    "plt.title('Post Origin');"
   ]
  },
  {
   "cell_type": "code",
   "execution_count": 137,
   "metadata": {
    "scrolled": true
   },
   "outputs": [
    {
     "data": {
      "image/png": "[encoded data removed]",
      "text/plain": [
       "<Figure size 432x288 with 1 Axes>"
      ]
     },
     "metadata": {
      "needs_background": "light"
     },
     "output_type": "display_data"
    }
   ],
   "source": [
    "# Plot difference in number of characters\n",
    "objects = ('r/environment', 'r/technology')\n",
    "y_pos = np.arange(len(objects))\n",
    "height = [env_char, tech_char]\n",
    "\n",
    "plt.bar(y_pos, height, align='center', alpha=0.9)\n",
    "plt.xticks(y_pos, objects)\n",
    "plt.ylabel('Characters')\n",
    "plt.title('Subreddit Character Counts');"
   ]
  },
  {
   "cell_type": "markdown",
   "metadata": {},
   "source": [
    "### Train, test, split"
   ]
  },
  {
   "cell_type": "code",
   "execution_count": 124,
   "metadata": {},
   "outputs": [],
   "source": [
    "# prepare the data for modeling\n",
    "X = posts['text']\n",
    "y = posts['subreddit']"
   ]
  },
  {
   "cell_type": "code",
   "execution_count": 125,
   "metadata": {},
   "outputs": [
    {
     "data": {
      "text/plain": [
       "1    0.52264\n",
       "0    0.47736\n",
       "Name: subreddit, dtype: float64"
      ]
     },
     "execution_count": 125,
     "metadata": {},
     "output_type": "execute_result"
    }
   ],
   "source": [
    "# check distribution of y variable\n",
    "y.value_counts(normalize=True)"
   ]
  },
  {
   "cell_type": "code",
   "execution_count": 126,
   "metadata": {},
   "outputs": [],
   "source": [
    "# Split the data into the training and testing sets.\n",
    "X_train, X_test, y_train, y_test = train_test_split(X,\n",
    "                                                    y,\n",
    "                                                    stratify=y,\n",
    "                                                    random_state=42)"
   ]
  },
  {
   "cell_type": "code",
   "execution_count": 127,
   "metadata": {
    "scrolled": true
   },
   "outputs": [
    {
     "name": "stdout",
     "output_type": "stream",
     "text": [
      "There are a total of 4091 posts in the training set.\n"
     ]
    }
   ],
   "source": [
    "# Get the number of posts for X train (4091)\n",
    "total_posts = X_train.shape[0]\n",
    "print(f'There are a total of {total_posts} posts in the training set.')"
   ]
  },
  {
   "cell_type": "code",
   "execution_count": 128,
   "metadata": {},
   "outputs": [],
   "source": [
    "# Use CountVectorize to explore common words\n",
    "cvec = CountVectorizer()\n",
    "cvec.fit(X_train)\n",
    "X_train_cvec = cvec.transform(X_train)\n",
    "X_test_cvec = cvec.transform(X_test)"
   ]
  },
  {
   "cell_type": "code",
   "execution_count": 129,
   "metadata": {},
   "outputs": [
    {
     "data": {
      "text/plain": [
       "the     14174\n",
       "to      10240\n",
       "and      8688\n",
       "of       7490\n",
       "in       5192\n",
       "is       4877\n",
       "it       4094\n",
       "that     3707\n",
       "for      3614\n",
       "on       2642\n",
       "you      2575\n",
       "this     2493\n",
       "are      2403\n",
       "we       2317\n",
       "be       2297\n",
       "com      2127\n",
       "with     1968\n",
       "can      1935\n",
       "have     1899\n",
       "www      1780\n",
       "dtype: int64"
      ]
     },
     "execution_count": 129,
     "metadata": {},
     "output_type": "execute_result"
    }
   ],
   "source": [
    "# Put vectorized words into a df to explore - todense() will return a dense matrix\n",
    "words = pd.DataFrame(X_train_cvec.todense(), columns=cvec.get_feature_names())\n",
    "\n",
    "# check which words are appearing the most in the df\n",
    "words.sum().sort_values(ascending=False).head(20)"
   ]
  },
  {
   "cell_type": "markdown",
   "metadata": {},
   "source": [
    "### Tokenize, Stem, Lemmatize"
   ]
  },
  {
   "cell_type": "code",
   "execution_count": 130,
   "metadata": {},
   "outputs": [
    {
     "data": {
      "text/plain": [
       "[['from',\n",
       "  'game',\n",
       "  'or',\n",
       "  'phone',\n",
       "  'interfac',\n",
       "  'vr',\n",
       "  'or',\n",
       "  'keyboard',\n",
       "  'and',\n",
       "  'mous',\n",
       "  'or',\n",
       "  'ani',\n",
       "  'other',\n",
       "  'peripher',\n",
       "  'to',\n",
       "  'ani',\n",
       "  'other',\n",
       "  'type',\n",
       "  'of',\n",
       "  'user',\n",
       "  'interfac',\n",
       "  'what',\n",
       "  'do',\n",
       "  'you',\n",
       "  'think',\n",
       "  'is',\n",
       "  'a',\n",
       "  'realli',\n",
       "  'obviou',\n",
       "  'improv',\n",
       "  'that',\n",
       "  's',\n",
       "  'miss',\n",
       "  'for',\n",
       "  'exampl',\n",
       "  'when',\n",
       "  'i',\n",
       "  'm',\n",
       "  'in',\n",
       "  'firefox',\n",
       "  'and',\n",
       "  'i',\n",
       "  'ctrl',\n",
       "  't',\n",
       "  'to',\n",
       "  'open',\n",
       "  'a',\n",
       "  'new',\n",
       "  'tab',\n",
       "  'my',\n",
       "  'cursor',\n",
       "  'is',\n",
       "  'in',\n",
       "  'the',\n",
       "  'search',\n",
       "  'bar',\n",
       "  'but',\n",
       "  'if',\n",
       "  'i',\n",
       "  'go',\n",
       "  'type',\n",
       "  'say',\n",
       "  'youtub',\n",
       "  'and',\n",
       "  'want',\n",
       "  'to',\n",
       "  'search',\n",
       "  'there',\n",
       "  'onc',\n",
       "  'it',\n",
       "  'load',\n",
       "  'now',\n",
       "  'i',\n",
       "  'have',\n",
       "  'to',\n",
       "  'take',\n",
       "  'my',\n",
       "  'hand',\n",
       "  'off',\n",
       "  'the',\n",
       "  'keyboard',\n",
       "  'to',\n",
       "  'click',\n",
       "  'the',\n",
       "  'right',\n",
       "  'field',\n",
       "  'to',\n",
       "  'start',\n",
       "  'type',\n",
       "  'or',\n",
       "  'tab',\n",
       "  'an',\n",
       "  'unknown',\n",
       "  'per',\n",
       "  'page',\n",
       "  'number',\n",
       "  'of',\n",
       "  'time',\n",
       "  'through',\n",
       "  'invis',\n",
       "  'menu',\n",
       "  'frame',\n",
       "  'that',\n",
       "  'don',\n",
       "  't',\n",
       "  'highlight',\n",
       "  'until',\n",
       "  'i',\n",
       "  'get',\n",
       "  'the',\n",
       "  'cursor',\n",
       "  'to',\n",
       "  'the',\n",
       "  'search',\n",
       "  'bar',\n",
       "  'whi',\n",
       "  'isn',\n",
       "  't',\n",
       "  'there',\n",
       "  'some',\n",
       "  'kind',\n",
       "  'of',\n",
       "  'default',\n",
       "  'focu',\n",
       "  'flag',\n",
       "  'in',\n",
       "  'css',\n",
       "  'or',\n",
       "  'on',\n",
       "  'page',\n",
       "  'in',\n",
       "  'gener',\n",
       "  'that',\n",
       "  'can',\n",
       "  'say',\n",
       "  'onc',\n",
       "  'load',\n",
       "  'in',\n",
       "  'focu',\n",
       "  'set',\n",
       "  'cursor',\n",
       "  'here',\n",
       "  'so',\n",
       "  'develop',\n",
       "  'can',\n",
       "  'tag',\n",
       "  'their',\n",
       "  'search',\n",
       "  'bar',\n",
       "  'as',\n",
       "  'their',\n",
       "  'start',\n",
       "  'point',\n",
       "  'if',\n",
       "  'there',\n",
       "  'is',\n",
       "  'whi',\n",
       "  'the',\n",
       "  'badword',\n",
       "  'don',\n",
       "  't',\n",
       "  'youtub',\n",
       "  'use',\n",
       "  'it',\n",
       "  'let',\n",
       "  's',\n",
       "  'talk',\n",
       "  'ui',\n",
       "  'what',\n",
       "  'improv',\n",
       "  'would',\n",
       "  'make',\n",
       "  'your',\n",
       "  'day',\n",
       "  'to',\n",
       "  'day',\n",
       "  'experi',\n",
       "  'better',\n",
       "  'while',\n",
       "  'use',\n",
       "  'ani',\n",
       "  'devic',\n",
       "  'or',\n",
       "  'softwar'],\n",
       " ['a',\n",
       "  'few',\n",
       "  'day',\n",
       "  'ago',\n",
       "  'i',\n",
       "  'receiv',\n",
       "  'an',\n",
       "  'interest',\n",
       "  'document',\n",
       "  'from',\n",
       "  'my',\n",
       "  'councilor',\n",
       "  'regard',\n",
       "  'the',\n",
       "  'adopt',\n",
       "  'of',\n",
       "  'the',\n",
       "  'g',\n",
       "  'mega',\n",
       "  'act',\n",
       "  'in',\n",
       "  'the',\n",
       "  'letter',\n",
       "  'i',\n",
       "  'will',\n",
       "  'describ',\n",
       "  'briefli',\n",
       "  'they',\n",
       "  'inform',\n",
       "  'that',\n",
       "  'they',\n",
       "  'will',\n",
       "  'not',\n",
       "  'amend',\n",
       "  'pem',\n",
       "  'standard',\n",
       "  'do',\n",
       "  'not',\n",
       "  'introduc',\n",
       "  'g',\n",
       "  'network',\n",
       "  'mobil',\n",
       "  'oper',\n",
       "  'do',\n",
       "  'the',\n",
       "  'bill',\n",
       "  'will',\n",
       "  'lead',\n",
       "  'to',\n",
       "  'the',\n",
       "  'liquid',\n",
       "  'of',\n",
       "  'technolog',\n",
       "  'white',\n",
       "  'spot',\n",
       "  'and',\n",
       "  'organ',\n",
       "  'disinform',\n",
       "  'campaign',\n",
       "  'also',\n",
       "  'mislead',\n",
       "  'local',\n",
       "  'govern',\n",
       "  'the',\n",
       "  'rest',\n",
       "  'of',\n",
       "  'the',\n",
       "  'document',\n",
       "  'are',\n",
       "  'also',\n",
       "  'avail',\n",
       "  'for',\n",
       "  'everyon',\n",
       "  'on',\n",
       "  'the',\n",
       "  'mc',\n",
       "  'websit',\n",
       "  'screenshot',\n",
       "  'of',\n",
       "  'first',\n",
       "  'page',\n",
       "  'document',\n",
       "  'is',\n",
       "  'in',\n",
       "  'r',\n",
       "  'polska',\n",
       "  'www',\n",
       "  'reddit',\n",
       "  'com',\n",
       "  'r',\n",
       "  'polska',\n",
       "  'comment',\n",
       "  'ccofqd',\n",
       "  'ministerstwo',\n",
       "  'cyfryzacji',\n",
       "  'walczi',\n",
       "  'z',\n",
       "  'fakenewsami',\n",
       "  'na',\n",
       "  'www',\n",
       "  'reddit',\n",
       "  'com',\n",
       "  'r',\n",
       "  'polska',\n",
       "  'comment',\n",
       "  'ccofqd',\n",
       "  'ministerstwo',\n",
       "  'cyfryzacji',\n",
       "  'walczi',\n",
       "  'z',\n",
       "  'fakenewsami',\n",
       "  'na',\n",
       "  'the',\n",
       "  'ministri',\n",
       "  'of',\n",
       "  'digit',\n",
       "  'fight',\n",
       "  'with',\n",
       "  'fake',\n",
       "  'news',\n",
       "  'about',\n",
       "  'the',\n",
       "  'g',\n",
       "  'network',\n",
       "  'and',\n",
       "  'send',\n",
       "  'educ',\n",
       "  'materi',\n",
       "  'to',\n",
       "  'local',\n",
       "  'govern']]"
      ]
     },
     "execution_count": 130,
     "metadata": {},
     "output_type": "execute_result"
    }
   ],
   "source": [
    "# Instantiate tokenizer and stemmer\n",
    "tokenizer = RegexpTokenizer(r'\\w+')\n",
    "p_stemmer = PorterStemmer()\n",
    "\n",
    "# Stem X_train and save words to empty list\n",
    "stemmed_words=[]\n",
    "\n",
    "for word in X_train:\n",
    "    tokens = tokenizer.tokenize(word)\n",
    "    row = [p_stemmer.stem(token) for token in tokens]\n",
    "    stemmed_words.append(row)\n",
    "stemmed_words[:2]"
   ]
  },
  {
   "cell_type": "code",
   "execution_count": 131,
   "metadata": {},
   "outputs": [
    {
     "data": {
      "text/plain": [
       "['from game or phone interfac vr or keyboard and mous or ani other peripher to ani other type of user interfac what do you think is a realli obviou improv that s miss for exampl when i m in firefox and i ctrl t to open a new tab my cursor is in the search bar but if i go type say youtub and want to search there onc it load now i have to take my hand off the keyboard to click the right field to start type or tab an unknown per page number of time through invis menu frame that don t highlight until i get the cursor to the search bar whi isn t there some kind of default focu flag in css or on page in gener that can say onc load in focu set cursor here so develop can tag their search bar as their start point if there is whi the badword don t youtub use it let s talk ui what improv would make your day to day experi better while use ani devic or softwar',\n",
       " 'a few day ago i receiv an interest document from my councilor regard the adopt of the g mega act in the letter i will describ briefli they inform that they will not amend pem standard do not introduc g network mobil oper do the bill will lead to the liquid of technolog white spot and organ disinform campaign also mislead local govern the rest of the document are also avail for everyon on the mc websit screenshot of first page document is in r polska www reddit com r polska comment ccofqd ministerstwo cyfryzacji walczi z fakenewsami na www reddit com r polska comment ccofqd ministerstwo cyfryzacji walczi z fakenewsami na the ministri of digit fight with fake news about the g network and send educ materi to local govern']"
      ]
     },
     "execution_count": 131,
     "metadata": {},
     "output_type": "execute_result"
    }
   ],
   "source": [
    "# Join the stemmed words together and save as X_train\n",
    "X_train = [' '.join(row) for row in stemmed_words]\n",
    "X_train[:2]"
   ]
  },
  {
   "cell_type": "code",
   "execution_count": 132,
   "metadata": {},
   "outputs": [
    {
     "data": {
      "text/plain": [
       "[['thi',\n",
       "  'is',\n",
       "  'break',\n",
       "  'news',\n",
       "  'will',\n",
       "  'chang',\n",
       "  'text',\n",
       "  'onc',\n",
       "  'link',\n",
       "  'is',\n",
       "  'avail',\n",
       "  'the',\n",
       "  'ravin',\n",
       "  'bushfir',\n",
       "  'on',\n",
       "  'kangaroo',\n",
       "  'island',\n",
       "  'south',\n",
       "  'australia',\n",
       "  'ha',\n",
       "  'been',\n",
       "  'contain',\n",
       "  'after',\n",
       "  'more',\n",
       "  'than',\n",
       "  'three',\n",
       "  'week',\n",
       "  'of',\n",
       "  'activ',\n",
       "  'firefight'],\n",
       " ['my',\n",
       "  'last',\n",
       "  'post',\n",
       "  'on',\n",
       "  'thi',\n",
       "  'topic',\n",
       "  'got',\n",
       "  'delet',\n",
       "  'what',\n",
       "  'are',\n",
       "  'devic',\n",
       "  'that',\n",
       "  'onli',\n",
       "  'messag',\n",
       "  'with',\n",
       "  'no',\n",
       "  'servic',\n",
       "  'or',\n",
       "  'wifi',\n",
       "  'at',\n",
       "  'all',\n",
       "  'up',\n",
       "  'to',\n",
       "  'an',\n",
       "  'mile',\n",
       "  'rang',\n",
       "  'like',\n",
       "  'a',\n",
       "  'devic',\n",
       "  'transmitt',\n",
       "  'or',\n",
       "  'app']]"
      ]
     },
     "execution_count": 132,
     "metadata": {},
     "output_type": "execute_result"
    }
   ],
   "source": [
    "# Stem X_test and save words to empty list\n",
    "stemmed_words=[]\n",
    "\n",
    "for word in X_test:\n",
    "    tokens = tokenizer.tokenize(word)\n",
    "    row = [p_stemmer.stem(token) for token in tokens]\n",
    "    stemmed_words.append(row)\n",
    "stemmed_words[:2]"
   ]
  },
  {
   "cell_type": "code",
   "execution_count": 133,
   "metadata": {},
   "outputs": [
    {
     "data": {
      "text/plain": [
       "['thi is break news will chang text onc link is avail the ravin bushfir on kangaroo island south australia ha been contain after more than three week of activ firefight',\n",
       " 'my last post on thi topic got delet what are devic that onli messag with no servic or wifi at all up to an mile rang like a devic transmitt or app']"
      ]
     },
     "execution_count": 133,
     "metadata": {},
     "output_type": "execute_result"
    }
   ],
   "source": [
    "# Join the stemmed words together and save as X_test\n",
    "X_test = [' '.join(row) for row in stemmed_words]\n",
    "X_test[:2]"
   ]
  },
  {
   "cell_type": "markdown",
   "metadata": {},
   "source": [
    "### Stopwords"
   ]
  },
  {
   "cell_type": "code",
   "execution_count": 68,
   "metadata": {},
   "outputs": [],
   "source": [
    "# Adding my own stopwords to SKlearn's set of stopwords\n",
    "stops_sk = ENGLISH_STOP_WORDS.union({'http', 'https', 'www', 'com'})\n",
    "\n",
    "# Adding my own stopwords to nltk's set of stopwords\n",
    "stops_nltk = stopwords.words('english') + ['http', 'https', 'www', 'com']"
   ]
  },
  {
   "cell_type": "markdown",
   "metadata": {},
   "source": [
    "# Modeling"
   ]
  },
  {
   "cell_type": "markdown",
   "metadata": {},
   "source": [
    "## Baseline Accuracy"
   ]
  },
  {
   "cell_type": "code",
   "execution_count": 47,
   "metadata": {},
   "outputs": [
    {
     "data": {
      "text/plain": [
       "1    0.522727\n",
       "0    0.477273\n",
       "Name: subreddit, dtype: float64"
      ]
     },
     "execution_count": 47,
     "metadata": {},
     "output_type": "execute_result"
    }
   ],
   "source": [
    "# Get baseline accuracy\n",
    "y_test.value_counts(normalize=True)"
   ]
  },
  {
   "cell_type": "markdown",
   "metadata": {},
   "source": [
    "## Logistic Regression\n",
    "- Transformer: CountVectorizer\n",
    "- Estimator: Logistic Regression\n",
    "- Gridsearch\n",
    "- Why: Start with a logistic regression model because it is easy to interpret and can indicate which variables are considered important by the model. Count vectorizer provides a numeric representation of how often certain words appear in a document."
   ]
  },
  {
   "cell_type": "code",
   "execution_count": 69,
   "metadata": {},
   "outputs": [],
   "source": [
    "pipe_cvec_lr = Pipeline([('cvec', CountVectorizer()),\n",
    "                         ('lr', LogisticRegression(random_state=42))])"
   ]
  },
  {
   "cell_type": "code",
   "execution_count": 70,
   "metadata": {},
   "outputs": [
    {
     "name": "stdout",
     "output_type": "stream",
     "text": [
      "Best Params: {'cvec__max_df': 0.85, 'cvec__max_features': 3500, 'cvec__min_df': 3, 'cvec__ngram_range': (1, 2), 'cvec__stop_words': ['i', 'me', 'my', 'myself', 'we', 'our', 'ours', 'ourselves', 'you', \"you're\", \"you've\", \"you'll\", \"you'd\", 'your', 'yours', 'yourself', 'yourselves', 'he', 'him', 'his', 'himself', 'she', \"she's\", 'her', 'hers', 'herself', 'it', \"it's\", 'its', 'itself', 'they', 'them', 'their', 'theirs', 'themselves', 'what', 'which', 'who', 'whom', 'this', 'that', \"that'll\", 'these', 'those', 'am', 'is', 'are', 'was', 'were', 'be', 'been', 'being', 'have', 'has', 'had', 'having', 'do', 'does', 'did', 'doing', 'a', 'an', 'the', 'and', 'but', 'if', 'or', 'because', 'as', 'until', 'while', 'of', 'at', 'by', 'for', 'with', 'about', 'against', 'between', 'into', 'through', 'during', 'before', 'after', 'above', 'below', 'to', 'from', 'up', 'down', 'in', 'out', 'on', 'off', 'over', 'under', 'again', 'further', 'then', 'once', 'here', 'there', 'when', 'where', 'why', 'how', 'all', 'any', 'both', 'each', 'few', 'more', 'most', 'other', 'some', 'such', 'no', 'nor', 'not', 'only', 'own', 'same', 'so', 'than', 'too', 'very', 's', 't', 'can', 'will', 'just', 'don', \"don't\", 'should', \"should've\", 'now', 'd', 'll', 'm', 'o', 're', 've', 'y', 'ain', 'aren', \"aren't\", 'couldn', \"couldn't\", 'didn', \"didn't\", 'doesn', \"doesn't\", 'hadn', \"hadn't\", 'hasn', \"hasn't\", 'haven', \"haven't\", 'isn', \"isn't\", 'ma', 'mightn', \"mightn't\", 'mustn', \"mustn't\", 'needn', \"needn't\", 'shan', \"shan't\", 'shouldn', \"shouldn't\", 'wasn', \"wasn't\", 'weren', \"weren't\", 'won', \"won't\", 'wouldn', \"wouldn't\", 'http', 'https', 'www', 'com'], 'lr__C': 0.1}\n",
      "Best Score: 0.909803965865074\n",
      "Train Score: 0.9564898557809827\n",
      "Test Score: 0.9193548387096774\n"
     ]
    }
   ],
   "source": [
    "# Search over the following values of hyperparameters:\n",
    "# Maximum number of features fit: 2500, 3000, 3500\n",
    "# Minimum number of documents needed to include token: 2, 3\n",
    "# Maximum number of documents needed to include token: 90%, 95%\n",
    "# N-gram check individual tokens and bigrams\n",
    "# lr__C determines the strength of regularization\n",
    "\n",
    "params_cvec_lr = {\n",
    "    'cvec__stop_words':[stops_sk, stops_nltk],\n",
    "    'cvec__max_features': [2500, 3000, 3500],\n",
    "    'cvec__min_df': [2, 3],\n",
    "    'cvec__max_df': [.85, .9],\n",
    "    'cvec__ngram_range': [(1,1), (1,2)], \n",
    "    'lr__C': [0.01, 0.1]\n",
    "}\n",
    "\n",
    "# Instantiate GridSearchCV\n",
    "gs_cvec_lr = GridSearchCV(pipe_cvec_lr,\n",
    "                  param_grid=params_cvec_lr, \n",
    "                  cv=3) \n",
    "\n",
    "# Fit GridSearch to training data.\n",
    "gs_cvec_lr.fit(X_train, y_train)\n",
    "\n",
    "# Score model and check best params/model\n",
    "print(f'Best Params: {gs_cvec_lr.best_params_}')\n",
    "print(f'Best Score: {gs_cvec_lr.best_score_}')\n",
    "print(f'Train Score: {gs_cvec_lr.score(X_train, y_train)}')\n",
    "print(f'Test Score: {gs_cvec_lr.score(X_test, y_test)}')"
   ]
  },
  {
   "cell_type": "code",
   "execution_count": 141,
   "metadata": {},
   "outputs": [],
   "source": [
    "# Generate predictions\n",
    "gs_cvec_lr_preds = gs_cvec_lr.predict(X_test)"
   ]
  },
  {
   "cell_type": "code",
   "execution_count": 149,
   "metadata": {},
   "outputs": [
    {
     "name": "stdout",
     "output_type": "stream",
     "text": [
      "Specificity: 0.8679\n",
      "Sensitivity: 0.9663\n"
     ]
    }
   ],
   "source": [
    "# Save TN/FP/FN/TP values.\n",
    "tn, fp, fn, tp = confusion_matrix(y_test, gs_cvec_lr_preds).ravel()\n",
    "\n",
    "# Calculate sensitivity and specificity\n",
    "spec = tn / (tn + fp)\n",
    "sens = tp / (tp + fn)\n",
    "\n",
    "print(f'Specificity: {round(spec,4)}')\n",
    "print(f'Sensitivity: {round(sens,4)}')"
   ]
  },
  {
   "cell_type": "markdown",
   "metadata": {},
   "source": [
    "### Interpretation\n",
    "- The model outperformed the baseline\n",
    "- The training set performed better than the testing set\n",
    "- hyperparameters: considering trying lower values for max_df"
   ]
  },
  {
   "cell_type": "markdown",
   "metadata": {},
   "source": [
    "## Logistic Regression 2\n",
    "- Transformer: TfidfVectorizer\n",
    "- Estimator: Logistic Regression\n",
    "- Gridsearch\n",
    "- Why: TFIDFVectorizer returns a word's value proportionally to count. It is offset by the frequency of the word in the corpus."
   ]
  },
  {
   "cell_type": "code",
   "execution_count": 72,
   "metadata": {},
   "outputs": [],
   "source": [
    "pipe_tfidf_lr = Pipeline([('tfidf', TfidfVectorizer()),\n",
    "                         ('lr', LogisticRegression(random_state=42))])"
   ]
  },
  {
   "cell_type": "code",
   "execution_count": 73,
   "metadata": {},
   "outputs": [
    {
     "name": "stdout",
     "output_type": "stream",
     "text": [
      "Best Params: {'lr__C': 0.1, 'tfidf__max_df': 0.9, 'tfidf__max_features': 2500, 'tfidf__min_df': 3, 'tfidf__ngram_range': (1, 2), 'tfidf__stop_words': ['i', 'me', 'my', 'myself', 'we', 'our', 'ours', 'ourselves', 'you', \"you're\", \"you've\", \"you'll\", \"you'd\", 'your', 'yours', 'yourself', 'yourselves', 'he', 'him', 'his', 'himself', 'she', \"she's\", 'her', 'hers', 'herself', 'it', \"it's\", 'its', 'itself', 'they', 'them', 'their', 'theirs', 'themselves', 'what', 'which', 'who', 'whom', 'this', 'that', \"that'll\", 'these', 'those', 'am', 'is', 'are', 'was', 'were', 'be', 'been', 'being', 'have', 'has', 'had', 'having', 'do', 'does', 'did', 'doing', 'a', 'an', 'the', 'and', 'but', 'if', 'or', 'because', 'as', 'until', 'while', 'of', 'at', 'by', 'for', 'with', 'about', 'against', 'between', 'into', 'through', 'during', 'before', 'after', 'above', 'below', 'to', 'from', 'up', 'down', 'in', 'out', 'on', 'off', 'over', 'under', 'again', 'further', 'then', 'once', 'here', 'there', 'when', 'where', 'why', 'how', 'all', 'any', 'both', 'each', 'few', 'more', 'most', 'other', 'some', 'such', 'no', 'nor', 'not', 'only', 'own', 'same', 'so', 'than', 'too', 'very', 's', 't', 'can', 'will', 'just', 'don', \"don't\", 'should', \"should've\", 'now', 'd', 'll', 'm', 'o', 're', 've', 'y', 'ain', 'aren', \"aren't\", 'couldn', \"couldn't\", 'didn', \"didn't\", 'doesn', \"doesn't\", 'hadn', \"hadn't\", 'hasn', \"hasn't\", 'haven', \"haven't\", 'isn', \"isn't\", 'ma', 'mightn', \"mightn't\", 'mustn', \"mustn't\", 'needn', \"needn't\", 'shan', \"shan't\", 'shouldn', \"shouldn't\", 'wasn', \"wasn't\", 'weren', \"weren't\", 'won', \"won't\", 'wouldn', \"wouldn't\", 'http', 'https', 'www', 'com']}\n",
      "Best Score: 0.910046193600024\n",
      "Train Score: 0.929112686384747\n",
      "Test Score: 0.9252199413489736\n"
     ]
    }
   ],
   "source": [
    "# Search over the following values of hyperparameters:\n",
    "params_tfidf_lr = {\n",
    "    'tfidf__stop_words':[stops_sk, stops_nltk],\n",
    "    'tfidf__max_features': [2500, 3000, 3500],\n",
    "    'tfidf__min_df': [2, 3],\n",
    "    'tfidf__max_df': [.9, .95],\n",
    "    'tfidf__ngram_range': [(1,1), (1,2)],\n",
    "    'lr__C': [0.01, 0.1]\n",
    "}\n",
    "\n",
    "# Instantiate GridSearchCV\n",
    "gs_tfidf_lr = GridSearchCV(pipe_tfidf_lr,\n",
    "                  param_grid=params_tfidf_lr, \n",
    "                  cv=3) \n",
    "\n",
    "# Fit GridSearch to training data.\n",
    "gs_tfidf_lr.fit(X_train, y_train)\n",
    "\n",
    "# Score model and check best params/model\n",
    "print(f'Best Params: {gs_tfidf_lr.best_params_}')\n",
    "print(f'Best Score: {gs_tfidf_lr.best_score_}')\n",
    "print(f'Train Score: {gs_tfidf_lr.score(X_train, y_train)}')\n",
    "print(f'Test Score: {gs_tfidf_lr.score(X_test, y_test)}')"
   ]
  },
  {
   "cell_type": "code",
   "execution_count": 150,
   "metadata": {},
   "outputs": [],
   "source": [
    "# Generate predictions\n",
    "gs_tfidf_lr_preds = gs_tfidf_lr.predict(X_test)"
   ]
  },
  {
   "cell_type": "code",
   "execution_count": 151,
   "metadata": {},
   "outputs": [
    {
     "name": "stdout",
     "output_type": "stream",
     "text": [
      "Specificity: 0.8879\n",
      "Sensitivity: 0.9593\n"
     ]
    }
   ],
   "source": [
    "# Save TN/FP/FN/TP values.\n",
    "tn, fp, fn, tp = confusion_matrix(y_test, gs_tfidf_lr_preds).ravel()\n",
    "\n",
    "# Calculate sensitivity and specificity\n",
    "spec = tn / (tn + fp)\n",
    "sens = tp / (tp + fn)\n",
    "\n",
    "print(f'Specificity: {round(spec,4)}')\n",
    "print(f'Sensitivity: {round(sens,4)}')"
   ]
  },
  {
   "cell_type": "markdown",
   "metadata": {},
   "source": [
    "### Interpretation\n",
    "- The model outperformed the baseline and performed better than the logistic regression model using Countvectorizer\n",
    "- The training set only performed .004% better than the test set\n",
    "- This is not great for my problem statement because it means my model is classifying very well! There is a clear distinction between the technology and environment subreddits."
   ]
  },
  {
   "cell_type": "markdown",
   "metadata": {},
   "source": [
    "## Multinomial Naive Bayes\n",
    "- Transformer: CountVectorizer\n",
    "- Estimator: Multinomial Naive Bayes\n",
    "- Why: A Multinomial Naive Bayes model is used because count vectorizer gives us an integer count of words in a document. It's a very fast modeling algorithm and an excellent classifier, outperforming more complicated models."
   ]
  },
  {
   "cell_type": "code",
   "execution_count": 75,
   "metadata": {
    "scrolled": true
   },
   "outputs": [
    {
     "name": "stdout",
     "output_type": "stream",
     "text": [
      "Train Score: 0.9643119041799071\n",
      "Test Score: 0.9332844574780058\n"
     ]
    }
   ],
   "source": [
    "# Instantiate Naive Bayes model\n",
    "mnb = MultinomialNB()\n",
    "cvec = CountVectorizer()\n",
    "\n",
    "# Countvectorize on x_train and x_test data\n",
    "X_train_cvec = cvec.fit_transform(X_train)\n",
    "X_test_cvec = cvec.transform(X_test)\n",
    "\n",
    "# Fit MNB to training data\n",
    "mnb.fit(X_train_cvec, y_train)\n",
    "\n",
    "# Make predictions\n",
    "y_pred_train = mnb.predict(X_train_cvec)\n",
    "y_pred_test = mnb.predict(X_test_cvec)\n",
    "\n",
    "# Score model and check best params/model\n",
    "print(f'Train Score: {mnb.score(X_train_cvec, y_train)}')\n",
    "print(f'Test Score: {mnb.score(X_test_cvec, y_test)}') "
   ]
  },
  {
   "cell_type": "code",
   "execution_count": 152,
   "metadata": {},
   "outputs": [
    {
     "name": "stdout",
     "output_type": "stream",
     "text": [
      "Specificity: 0.9739\n",
      "Sensitivity: 0.8962\n"
     ]
    }
   ],
   "source": [
    "# Save TN/FP/FN/TP values.\n",
    "tn, fp, fn, tp = confusion_matrix(y_test, y_pred_test).ravel()\n",
    "\n",
    "# Calculate sensitivity and specificity\n",
    "spec = tn / (tn + fp)\n",
    "sens = tp / (tp + fn)\n",
    "\n",
    "print(f'Specificity: {round(spec,4)}')\n",
    "print(f'Sensitivity: {round(sens,4)}')"
   ]
  },
  {
   "cell_type": "markdown",
   "metadata": {},
   "source": [
    "### Interpretation\n",
    "- The Multinomial Naive Bayes had a higher training score (the highest of all the models)\n",
    "- It was worth testing this model, but important to recognize it's shortcomings. Naive Bayes models assume that all of our features are independent of one another, which isn't necessarily true with language data. Certain words are more likely to follow other words, and certain words are less likely to follow other words."
   ]
  },
  {
   "cell_type": "markdown",
   "metadata": {},
   "source": [
    "## Random Forest\n",
    "- Estimator: Random Forest Classifier\n",
    "- Gridsearch\n",
    "- Why: Random Forests are relatively simple to use because they require very few parameters to set and they perform pretty well. "
   ]
  },
  {
   "cell_type": "code",
   "execution_count": 87,
   "metadata": {},
   "outputs": [],
   "source": [
    "pipe_tfidf_rf = Pipeline([('tfidf', TfidfVectorizer()),\n",
    "                         ('rf', RandomForestClassifier(random_state=42))])"
   ]
  },
  {
   "cell_type": "code",
   "execution_count": 90,
   "metadata": {},
   "outputs": [
    {
     "name": "stdout",
     "output_type": "stream",
     "text": [
      "Best Params: {'rf__max_depth': None, 'rf__min_samples_split': 4, 'rf__n_estimators': 50, 'tfidf__max_df': 0.9, 'tfidf__max_features': 2500, 'tfidf__min_df': 3, 'tfidf__ngram_range': (1, 2), 'tfidf__stop_words': ['i', 'me', 'my', 'myself', 'we', 'our', 'ours', 'ourselves', 'you', \"you're\", \"you've\", \"you'll\", \"you'd\", 'your', 'yours', 'yourself', 'yourselves', 'he', 'him', 'his', 'himself', 'she', \"she's\", 'her', 'hers', 'herself', 'it', \"it's\", 'its', 'itself', 'they', 'them', 'their', 'theirs', 'themselves', 'what', 'which', 'who', 'whom', 'this', 'that', \"that'll\", 'these', 'those', 'am', 'is', 'are', 'was', 'were', 'be', 'been', 'being', 'have', 'has', 'had', 'having', 'do', 'does', 'did', 'doing', 'a', 'an', 'the', 'and', 'but', 'if', 'or', 'because', 'as', 'until', 'while', 'of', 'at', 'by', 'for', 'with', 'about', 'against', 'between', 'into', 'through', 'during', 'before', 'after', 'above', 'below', 'to', 'from', 'up', 'down', 'in', 'out', 'on', 'off', 'over', 'under', 'again', 'further', 'then', 'once', 'here', 'there', 'when', 'where', 'why', 'how', 'all', 'any', 'both', 'each', 'few', 'more', 'most', 'other', 'some', 'such', 'no', 'nor', 'not', 'only', 'own', 'same', 'so', 'than', 'too', 'very', 's', 't', 'can', 'will', 'just', 'don', \"don't\", 'should', \"should've\", 'now', 'd', 'll', 'm', 'o', 're', 've', 'y', 'ain', 'aren', \"aren't\", 'couldn', \"couldn't\", 'didn', \"didn't\", 'doesn', \"doesn't\", 'hadn', \"hadn't\", 'hasn', \"hasn't\", 'haven', \"haven't\", 'isn', \"isn't\", 'ma', 'mightn', \"mightn't\", 'mustn', \"mustn't\", 'needn', \"needn't\", 'shan', \"shan't\", 'shouldn', \"shouldn't\", 'wasn', \"wasn't\", 'weren', \"weren't\", 'won', \"won't\", 'wouldn', \"wouldn't\", 'http', 'https', 'www', 'com']}\n",
      "Best Score: 0.9159143442567105\n",
      "Train Score: 0.9970667318504033\n",
      "Test Score: 0.9237536656891495\n"
     ]
    }
   ],
   "source": [
    "params_tfidf_rf ={\n",
    "    'tfidf__stop_words':[stops_nltk],\n",
    "    'tfidf__max_features': [2500, 3000],\n",
    "    'tfidf__min_df': [2, 3],\n",
    "    'tfidf__max_df': [.9, .95],\n",
    "    'tfidf__ngram_range': [(1,1), (1,2)],\n",
    "    'rf__n_estimators':[50,100],\n",
    "    'rf__max_depth':[None,1,2,3,4],\n",
    "    'rf__min_samples_split':[2,4,6]\n",
    "}\n",
    "\n",
    "# Instantiate Gridsearch\n",
    "gs_tfidf_rf = GridSearchCV(pipe_tfidf_rf, \n",
    "                     param_grid=params_tfidf_rf, \n",
    "                     cv=3)\n",
    "\n",
    "# Fit Gridsearch to the training data\n",
    "gs_tfidf_rf.fit(X_train, y_train)\n",
    "\n",
    "# Score model and check best params/model\n",
    "print(f'Best Params: {gs_tfidf_rf.best_params_}')\n",
    "print(f'Best Score: {gs_tfidf_rf.best_score_}')\n",
    "print(f'Train Score: {gs_tfidf_rf.score(X_train, y_train)}')\n",
    "print(f'Test Score: {gs_tfidf_rf.score(X_test, y_test)}') "
   ]
  },
  {
   "cell_type": "code",
   "execution_count": 153,
   "metadata": {},
   "outputs": [],
   "source": [
    "# Generate predictions\n",
    "gs_tfidf_rf_preds = gs_tfidf_rf.predict(X_test)"
   ]
  },
  {
   "cell_type": "code",
   "execution_count": 154,
   "metadata": {},
   "outputs": [
    {
     "name": "stdout",
     "output_type": "stream",
     "text": [
      "Specificity: 0.9278\n",
      "Sensitivity: 0.9201\n"
     ]
    }
   ],
   "source": [
    "# Save TN/FP/FN/TP values.\n",
    "tn, fp, fn, tp = confusion_matrix(y_test, gs_tfidf_rf_preds).ravel()\n",
    "\n",
    "# Calculate sensitivity and specificity\n",
    "spec = tn / (tn + fp)\n",
    "sens = tp / (tp + fn)\n",
    "\n",
    "print(f'Specificity: {round(spec,4)}')\n",
    "print(f'Sensitivity: {round(sens,4)}')"
   ]
  },
  {
   "cell_type": "markdown",
   "metadata": {},
   "source": [
    "### Interpretation\n",
    "- The Random Forest Model is overfit, indicated by the significantly higher training score. This can also be concluded because the best max_depth parameter is 'None', which indicates an overfit tree.\n",
    "- As we increased variation by adding the min samples split parameter, we saw a slight decrease in the model's performance. The min_samples_split parameter could be driving max_depth to none. \n",
    "- Parameters indicate a lower number of trees is ideal."
   ]
  },
  {
   "cell_type": "markdown",
   "metadata": {},
   "source": [
    "# References\n",
    "\n",
    "Preprocessing and EDA  \n",
    "https://stackoverflow.com/questions/11331982/how-to-remove-any-url-within-a-string-in-python  \n",
    "https://pythonspot.com/matplotlib-bar-chart/  "
   ]
  }
 ],
 "metadata": {
  "kernelspec": {
   "display_name": "Python 3",
   "language": "python",
   "name": "python3"
  },
  "language_info": {
   "codemirror_mode": {
    "name": "ipython",
    "version": 3
   },
   "file_extension": ".py",
   "mimetype": "text/x-python",
   "name": "python",
   "nbconvert_exporter": "python",
   "pygments_lexer": "ipython3",
   "version": "3.7.6"
  },
  "toc": {
   "base_numbering": 1,
   "nav_menu": {},
   "number_sections": true,
   "sideBar": true,
   "skip_h1_title": false,
   "title_cell": "Table of Contents",
   "title_sidebar": "Contents",
   "toc_cell": false,
   "toc_position": {
    "height": "calc(100% - 180px)",
    "left": "10px",
    "top": "150px",
    "width": "206.989px"
   },
   "toc_section_display": true,
   "toc_window_display": true
  }
 },
 "nbformat": 4,
 "nbformat_minor": 2
}
