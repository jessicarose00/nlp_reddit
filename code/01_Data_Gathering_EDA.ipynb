{
 "cells": [
  {
   "cell_type": "markdown",
   "metadata": {},
   "source": [
    "# Data Gathering and Cleaning\n"
   ]
  },
  {
   "cell_type": "markdown",
   "metadata": {},
   "source": [
    "## Pushshift API Wrapper"
   ]
  },
  {
   "cell_type": "code",
   "execution_count": 1,
   "metadata": {},
   "outputs": [],
   "source": [
    "import pandas as pd\n",
    "import time\n",
    "import requests\n",
    "import datetime as dt"
   ]
  },
  {
   "cell_type": "code",
   "execution_count": 7,
   "metadata": {},
   "outputs": [],
   "source": [
    "def get_date(created):\n",
    "    return dt.datetime.fromtimestamp(created)\n",
    "\n",
    "def query_pushshift(subreddit, kind='submission', skip=5, times=50, \n",
    "                    subfield = ['title', 'selftext', 'subreddit', 'created_utc', 'author', 'num_comments',\n",
    "                                'score', 'is_self']):\n",
    "    \n",
    "    # get the base url that contains information I want to scrape where 'kind' are all submitted posts\n",
    "    # and 'subreddit' is the specified subreddit. Get 500 posts.\n",
    "    stem = f\"https://api.pushshift.io/reddit/search/{kind}/?subreddit={subreddit}&size=500\"\n",
    "    \n",
    "    # instantiate list to contain \n",
    "    mylist = []\n",
    "    \n",
    "    # scrape posts from the subreddit 'times' times\n",
    "    for x in range(1, times + 1):\n",
    "        \n",
    "        # Get posts 'skip' * 'x' days ago\n",
    "        URL = f\"{stem}&after={skip * x}d\"\n",
    "        print(URL)\n",
    "        \n",
    "        # Scrape URL\n",
    "        response = requests.get(URL)\n",
    "        \n",
    "        # Give me an AssertionError if status code not 200\n",
    "        assert response.status_code == 200\n",
    "        \n",
    "        # Of the HTML scraped, take the values of 'data'\n",
    "        the_json=response.json()\n",
    " \n",
    "        # turn the data into a dataframe\n",
    "        df = pd.DataFrame.from_dict(the_json['data'])\n",
    "        \n",
    "        # append the dataframe to mylist\n",
    "        mylist.append(df)\n",
    "        \n",
    "        # wait to not overrun Reddit's resources\n",
    "        time.sleep(3)\n",
    "        \n",
    "    # concatenate the dataframes together as one large dataframe, full\n",
    "    full = pd.concat(mylist, sort=False)\n",
    "    if kind == \"submission\":\n",
    "        \n",
    "        # take all speficied data\n",
    "        full = full[subfield]\n",
    "        \n",
    "        # drop duplicate rows\n",
    "        full = full.drop_duplicates()\n",
    "        full = full.loc[full['is_self'] == True]\n",
    "          \n",
    "    # date the the post was... posted\n",
    "    _timestamp = full[\"created_utc\"].apply(get_date)\n",
    "    full['timestamp'] = _timestamp\n",
    "    print(full.shape)\n",
    "    return full"
   ]
  },
  {
   "cell_type": "code",
   "execution_count": 8,
   "metadata": {},
   "outputs": [
    {
     "name": "stdout",
     "output_type": "stream",
     "text": [
      "https://api.pushshift.io/reddit/search/submission/?subreddit=environment&size=500&after=5d\n",
      "https://api.pushshift.io/reddit/search/submission/?subreddit=environment&size=500&after=10d\n",
      "https://api.pushshift.io/reddit/search/submission/?subreddit=environment&size=500&after=15d\n",
      "https://api.pushshift.io/reddit/search/submission/?subreddit=environment&size=500&after=20d\n",
      "https://api.pushshift.io/reddit/search/submission/?subreddit=environment&size=500&after=25d\n",
      "https://api.pushshift.io/reddit/search/submission/?subreddit=environment&size=500&after=30d\n",
      "https://api.pushshift.io/reddit/search/submission/?subreddit=environment&size=500&after=35d\n",
      "https://api.pushshift.io/reddit/search/submission/?subreddit=environment&size=500&after=40d\n",
      "https://api.pushshift.io/reddit/search/submission/?subreddit=environment&size=500&after=45d\n",
      "https://api.pushshift.io/reddit/search/submission/?subreddit=environment&size=500&after=50d\n",
      "https://api.pushshift.io/reddit/search/submission/?subreddit=environment&size=500&after=55d\n",
      "https://api.pushshift.io/reddit/search/submission/?subreddit=environment&size=500&after=60d\n",
      "https://api.pushshift.io/reddit/search/submission/?subreddit=environment&size=500&after=65d\n",
      "https://api.pushshift.io/reddit/search/submission/?subreddit=environment&size=500&after=70d\n",
      "https://api.pushshift.io/reddit/search/submission/?subreddit=environment&size=500&after=75d\n",
      "https://api.pushshift.io/reddit/search/submission/?subreddit=environment&size=500&after=80d\n",
      "https://api.pushshift.io/reddit/search/submission/?subreddit=environment&size=500&after=85d\n",
      "https://api.pushshift.io/reddit/search/submission/?subreddit=environment&size=500&after=90d\n",
      "https://api.pushshift.io/reddit/search/submission/?subreddit=environment&size=500&after=95d\n",
      "https://api.pushshift.io/reddit/search/submission/?subreddit=environment&size=500&after=100d\n",
      "https://api.pushshift.io/reddit/search/submission/?subreddit=environment&size=500&after=105d\n",
      "https://api.pushshift.io/reddit/search/submission/?subreddit=environment&size=500&after=110d\n",
      "https://api.pushshift.io/reddit/search/submission/?subreddit=environment&size=500&after=115d\n",
      "https://api.pushshift.io/reddit/search/submission/?subreddit=environment&size=500&after=120d\n",
      "https://api.pushshift.io/reddit/search/submission/?subreddit=environment&size=500&after=125d\n",
      "https://api.pushshift.io/reddit/search/submission/?subreddit=environment&size=500&after=130d\n",
      "https://api.pushshift.io/reddit/search/submission/?subreddit=environment&size=500&after=135d\n",
      "https://api.pushshift.io/reddit/search/submission/?subreddit=environment&size=500&after=140d\n",
      "https://api.pushshift.io/reddit/search/submission/?subreddit=environment&size=500&after=145d\n",
      "https://api.pushshift.io/reddit/search/submission/?subreddit=environment&size=500&after=150d\n",
      "https://api.pushshift.io/reddit/search/submission/?subreddit=environment&size=500&after=155d\n",
      "https://api.pushshift.io/reddit/search/submission/?subreddit=environment&size=500&after=160d\n",
      "https://api.pushshift.io/reddit/search/submission/?subreddit=environment&size=500&after=165d\n",
      "https://api.pushshift.io/reddit/search/submission/?subreddit=environment&size=500&after=170d\n",
      "https://api.pushshift.io/reddit/search/submission/?subreddit=environment&size=500&after=175d\n",
      "https://api.pushshift.io/reddit/search/submission/?subreddit=environment&size=500&after=180d\n",
      "https://api.pushshift.io/reddit/search/submission/?subreddit=environment&size=500&after=185d\n",
      "https://api.pushshift.io/reddit/search/submission/?subreddit=environment&size=500&after=190d\n",
      "https://api.pushshift.io/reddit/search/submission/?subreddit=environment&size=500&after=195d\n",
      "https://api.pushshift.io/reddit/search/submission/?subreddit=environment&size=500&after=200d\n",
      "https://api.pushshift.io/reddit/search/submission/?subreddit=environment&size=500&after=205d\n",
      "https://api.pushshift.io/reddit/search/submission/?subreddit=environment&size=500&after=210d\n",
      "https://api.pushshift.io/reddit/search/submission/?subreddit=environment&size=500&after=215d\n",
      "https://api.pushshift.io/reddit/search/submission/?subreddit=environment&size=500&after=220d\n",
      "https://api.pushshift.io/reddit/search/submission/?subreddit=environment&size=500&after=225d\n",
      "https://api.pushshift.io/reddit/search/submission/?subreddit=environment&size=500&after=230d\n",
      "https://api.pushshift.io/reddit/search/submission/?subreddit=environment&size=500&after=235d\n",
      "https://api.pushshift.io/reddit/search/submission/?subreddit=environment&size=500&after=240d\n",
      "https://api.pushshift.io/reddit/search/submission/?subreddit=environment&size=500&after=245d\n",
      "https://api.pushshift.io/reddit/search/submission/?subreddit=environment&size=500&after=250d\n",
      "(2951, 9)\n"
     ]
    }
   ],
   "source": [
    "# Scrape environment data\n",
    "df_env = query_pushshift(subreddit='environment', skip=5, times=50)"
   ]
  },
  {
   "cell_type": "code",
   "execution_count": 9,
   "metadata": {
    "scrolled": false
   },
   "outputs": [
    {
     "name": "stdout",
     "output_type": "stream",
     "text": [
      "https://api.pushshift.io/reddit/search/submission/?subreddit=technology&size=500&after=5d\n",
      "https://api.pushshift.io/reddit/search/submission/?subreddit=technology&size=500&after=10d\n",
      "https://api.pushshift.io/reddit/search/submission/?subreddit=technology&size=500&after=15d\n",
      "https://api.pushshift.io/reddit/search/submission/?subreddit=technology&size=500&after=20d\n",
      "https://api.pushshift.io/reddit/search/submission/?subreddit=technology&size=500&after=25d\n",
      "https://api.pushshift.io/reddit/search/submission/?subreddit=technology&size=500&after=30d\n",
      "https://api.pushshift.io/reddit/search/submission/?subreddit=technology&size=500&after=35d\n",
      "https://api.pushshift.io/reddit/search/submission/?subreddit=technology&size=500&after=40d\n",
      "https://api.pushshift.io/reddit/search/submission/?subreddit=technology&size=500&after=45d\n",
      "https://api.pushshift.io/reddit/search/submission/?subreddit=technology&size=500&after=50d\n",
      "https://api.pushshift.io/reddit/search/submission/?subreddit=technology&size=500&after=55d\n",
      "https://api.pushshift.io/reddit/search/submission/?subreddit=technology&size=500&after=60d\n",
      "https://api.pushshift.io/reddit/search/submission/?subreddit=technology&size=500&after=65d\n",
      "https://api.pushshift.io/reddit/search/submission/?subreddit=technology&size=500&after=70d\n",
      "https://api.pushshift.io/reddit/search/submission/?subreddit=technology&size=500&after=75d\n",
      "https://api.pushshift.io/reddit/search/submission/?subreddit=technology&size=500&after=80d\n",
      "https://api.pushshift.io/reddit/search/submission/?subreddit=technology&size=500&after=85d\n",
      "https://api.pushshift.io/reddit/search/submission/?subreddit=technology&size=500&after=90d\n",
      "https://api.pushshift.io/reddit/search/submission/?subreddit=technology&size=500&after=95d\n",
      "https://api.pushshift.io/reddit/search/submission/?subreddit=technology&size=500&after=100d\n",
      "https://api.pushshift.io/reddit/search/submission/?subreddit=technology&size=500&after=105d\n",
      "https://api.pushshift.io/reddit/search/submission/?subreddit=technology&size=500&after=110d\n",
      "https://api.pushshift.io/reddit/search/submission/?subreddit=technology&size=500&after=115d\n",
      "https://api.pushshift.io/reddit/search/submission/?subreddit=technology&size=500&after=120d\n",
      "https://api.pushshift.io/reddit/search/submission/?subreddit=technology&size=500&after=125d\n",
      "https://api.pushshift.io/reddit/search/submission/?subreddit=technology&size=500&after=130d\n",
      "https://api.pushshift.io/reddit/search/submission/?subreddit=technology&size=500&after=135d\n",
      "https://api.pushshift.io/reddit/search/submission/?subreddit=technology&size=500&after=140d\n",
      "https://api.pushshift.io/reddit/search/submission/?subreddit=technology&size=500&after=145d\n",
      "https://api.pushshift.io/reddit/search/submission/?subreddit=technology&size=500&after=150d\n",
      "https://api.pushshift.io/reddit/search/submission/?subreddit=technology&size=500&after=155d\n",
      "https://api.pushshift.io/reddit/search/submission/?subreddit=technology&size=500&after=160d\n",
      "https://api.pushshift.io/reddit/search/submission/?subreddit=technology&size=500&after=165d\n",
      "https://api.pushshift.io/reddit/search/submission/?subreddit=technology&size=500&after=170d\n",
      "https://api.pushshift.io/reddit/search/submission/?subreddit=technology&size=500&after=175d\n",
      "https://api.pushshift.io/reddit/search/submission/?subreddit=technology&size=500&after=180d\n",
      "https://api.pushshift.io/reddit/search/submission/?subreddit=technology&size=500&after=185d\n",
      "https://api.pushshift.io/reddit/search/submission/?subreddit=technology&size=500&after=190d\n",
      "https://api.pushshift.io/reddit/search/submission/?subreddit=technology&size=500&after=195d\n",
      "https://api.pushshift.io/reddit/search/submission/?subreddit=technology&size=500&after=200d\n",
      "https://api.pushshift.io/reddit/search/submission/?subreddit=technology&size=500&after=205d\n",
      "https://api.pushshift.io/reddit/search/submission/?subreddit=technology&size=500&after=210d\n",
      "https://api.pushshift.io/reddit/search/submission/?subreddit=technology&size=500&after=215d\n",
      "https://api.pushshift.io/reddit/search/submission/?subreddit=technology&size=500&after=220d\n",
      "https://api.pushshift.io/reddit/search/submission/?subreddit=technology&size=500&after=225d\n",
      "https://api.pushshift.io/reddit/search/submission/?subreddit=technology&size=500&after=230d\n",
      "https://api.pushshift.io/reddit/search/submission/?subreddit=technology&size=500&after=235d\n",
      "https://api.pushshift.io/reddit/search/submission/?subreddit=technology&size=500&after=240d\n",
      "https://api.pushshift.io/reddit/search/submission/?subreddit=technology&size=500&after=245d\n",
      "https://api.pushshift.io/reddit/search/submission/?subreddit=technology&size=500&after=250d\n",
      "(4851, 9)\n"
     ]
    }
   ],
   "source": [
    "# Scrape technology data\n",
    "df_tech = query_pushshift(subreddit='technology', skip=5, times=50)"
   ]
  },
  {
   "cell_type": "code",
   "execution_count": 10,
   "metadata": {},
   "outputs": [
    {
     "data": {
      "text/plain": [
       "(2951, 9)"
      ]
     },
     "execution_count": 10,
     "metadata": {},
     "output_type": "execute_result"
    }
   ],
   "source": [
    "# Randomly drop rows in tech df to have balanced classes with env data\n",
    "df_tech = df_tech.sample(n=2951)\n",
    "df_tech.shape"
   ]
  },
  {
   "cell_type": "code",
   "execution_count": 11,
   "metadata": {},
   "outputs": [
    {
     "data": {
      "text/plain": [
       "(2951, 9)"
      ]
     },
     "execution_count": 11,
     "metadata": {},
     "output_type": "execute_result"
    }
   ],
   "source": [
    "# Confirm shapes are now the same\n",
    "df_env.shape"
   ]
  },
  {
   "cell_type": "markdown",
   "metadata": {},
   "source": [
    "## Combine and save to csv"
   ]
  },
  {
   "cell_type": "code",
   "execution_count": 12,
   "metadata": {},
   "outputs": [],
   "source": [
    "df = pd.concat([df_env, df_tech], ignore_index=True)"
   ]
  },
  {
   "cell_type": "code",
   "execution_count": 13,
   "metadata": {},
   "outputs": [
    {
     "data": {
      "text/plain": [
       "(5902, 9)"
      ]
     },
     "execution_count": 13,
     "metadata": {},
     "output_type": "execute_result"
    }
   ],
   "source": [
    "df.shape"
   ]
  },
  {
   "cell_type": "code",
   "execution_count": 14,
   "metadata": {},
   "outputs": [],
   "source": [
    "# save raw file\n",
    "df.to_csv('../data/posts_raw.csv', index=False)"
   ]
  },
  {
   "cell_type": "markdown",
   "metadata": {},
   "source": [
    "# Data Cleaning\n",
    "\n",
    "- Address subtext issues \n",
    "- Combine selftext and titles into one column\n",
    "- Drop 'AutoModerator' authored rows\n",
    "- Drop unneeded columns\n",
    "- remove non-letter characters"
   ]
  },
  {
   "cell_type": "code",
   "execution_count": 59,
   "metadata": {},
   "outputs": [],
   "source": [
    "# Import for cleaning\n",
    "posts = pd.read_csv('../data/posts_raw.csv')"
   ]
  },
  {
   "cell_type": "code",
   "execution_count": 60,
   "metadata": {
    "scrolled": true
   },
   "outputs": [
    {
     "data": {
      "text/plain": [
       "environment    2951\n",
       "technology     2951\n",
       "Name: subreddit, dtype: int64"
      ]
     },
     "execution_count": 60,
     "metadata": {},
     "output_type": "execute_result"
    }
   ],
   "source": [
    "posts['subreddit'].value_counts()"
   ]
  },
  {
   "cell_type": "code",
   "execution_count": 61,
   "metadata": {
    "scrolled": false
   },
   "outputs": [
    {
     "data": {
      "text/plain": [
       "[removed]                                                                                                                                                                                                                                                                                                                                                                                                                                                                                                                                                                                                                                                                                                                                                                                                                                                                                                                                                                                                                                                                                                                                                                                                                                                                                                      2049\n",
       "[deleted]                                                                                                                                                                                                                                                                                                                                                                                                                                                                                                                                                                                                                                                                                                                                                                                                                                                                                                                                                                                                                                                                                                                                                                                                                                                                                                         9\n",
       "##Greetings Good People of /r/Technology,\\n\\nWelcome to the /r/Technology Tech Support / General Discussion Thread.\\n\\n**All questions must be submitted as top comments** (direct replies to this post).\\n\\nAs always, we ask that you keep it civil, abide by the [rules of reddit](http://www.reddit.com/rules) and mind your [reddiquette](https://www.reddit.com/wiki/reddiquette).  Please hit the report button on any activity that you feel may be in violation of any of the guidelines listed above.\\n\\n[Click here to review past iterations of these support discussions.](https://www.reddit.com/r/technology/search?q=author%3AAutomoderator&amp;sort=new&amp;restrict_sr=on)\\n\\ncheers, /r/technology moderators.                                                                                                                                                                                                                                                                                                                                                                                                                                                                                                                                                                                 5\n",
       "[https://www.researchgate.net/publication/333142617\\_The\\_role\\_of\\_media\\_between\\_expert\\_and\\_lay\\_knowledge\\_A\\_study\\_of\\_Iberian\\_media\\_coverage\\_on\\_climate\\_change](https://www.researchgate.net/publication/333142617_The_role_of_media_between_expert_and_lay_knowledge_A_study_of_Iberian_media_coverage_on_climate_change)                                                                                                                                                                                                                                                                                                                                                                                                                                                                                                                                                                                                                                                                                                                                                                                                                                                                                                                                                                          4\n",
       "The New York Times: As Amazon Smolders, Indonesia Fires Choke the Other Side of the World.\\nhttps://www.nytimes.com/2019/09/17/world/asia/indonesia-fires-photos.html                                                                                                                                                                                                                                                                                                                                                                                                                                                                                                                                                                                                                                                                                                                                                                                                                                                                                                                                                                                                                                                                                                                                             3\n",
       "                                                                                                                                                                                                                                                                                                                                                                                                                                                                                                                                                                                                                                                                                                                                                                                                                                                                                                                                                                                                                                                                                                                                                                                                                                                                                                               ... \n",
       "An unknown Ukrainian artist started to recycle plastic by his own method. He collects plastic wastes in historical places and paints works of art out of them, thus cleaning the environment.\\n\\nUnfortunately, in Ukraine, almost no one is interested in progressive waste, part of the population is trying to cope with this system. Still, without government support at all levels, this task is complicated. In Ukraine, there are many problems associated with waste and recycling, even though the industry is up-and-coming for investors. For his part, artist has come up with a lot of projects that could attract public attention to environmental problems, but there is no funding.                                                                                                                                                                                                                                                                                                                                                                                                                                                                                                                                                                                                             1\n",
       "Interesting: The researchers looked at the power grids in California and Texas, then modeled the ways in which energy storage might make better use of energy from renewable sources — and the ways in which storing energy from renewable sources might affect the amount of carbon dioxide the energy grid pumps into the atmosphere.\\n\\nThey found that in California, without energy storage, one-third of the renewable energy could be lost or never collected in the first place. And adding energy storage technologies — batteries and the like — could reduce carbon dioxide emissions by 90 percent.\\n\\nUnder the study’s models, holding energy from renewable sources also made the system much more efficient: Just 9 percent of renewable energy was lost.\\n\\nIn Texas, a state that generates a smaller percentage of its energy from renewable sources than California, the researchers found that adding energy storage technologies to the grid could reduce carbon dioxide emissions by about 57 percent. Under that model, just 0.3 percent of the renewable energy in Texas’s system would be lost.\\n\\n[https://news.osu.edu/energy-storage-could-reduce-emissions-that-cause-climate-change/](https://news.osu.edu/energy-storage-could-reduce-emissions-that-cause-climate-change/)       1\n",
       "This is the only climate chart you'll ever need.\\n\\n[https://lokisrevengeblog.files.wordpress.com/2019/07/the-cliff-1.jpg?w=696](https://lokisrevengeblog.files.wordpress.com/2019/07/the-cliff-1.jpg?w=696)\\n\\nThis is the only energy chart you'll ever need.\\n\\n[https://lokisrevengeblog.files.wordpress.com/2019/12/2040-energy.png?w=696](https://lokisrevengeblog.files.wordpress.com/2019/12/2040-energy.png?w=696)\\n\\nCongratulations, you are now a climate/energy expert. Now, go out there and conquer the world.\\n\\nThe only problem is that if we pass 1.5  ° C, life on earth will face runaway hothouse mass extinction which cannot be stopped or reversed once started, many believe it has already started.\\n\\n[https://www.nature.com/articles/d41586-019-03595-0](https://www.nature.com/articles/d41586-019-03595-0)\\n\\nThe only website you'll ever need\\n\\n[https://lokisrevengeblog.wordpress.com/](https://lokisrevengeblog.wordpress.com/)                                                                                                                                                                                                                                                                                                                                             1\n",
       " \\n\\nHello,\\n\\nCurrently, I have gotten into a jam. My job suddenly let me go right before the rent period.  I've been seeking to get hired on with other companies, but it has been a slow process. I've picked up a  gig to help get through, However, the work has not been coming in enough to get near my goals. I haven't been able to bring in the funding for my monthly obligations at the moment such as rent (which is overdue and I'm facing eviction), car payment (couple months behind), I have not been able to get near my goals, where I normally would be had I not of dealt with the work stoppage. While I'm currently seeking other employment right now. Its the 13th &amp; rent was due on the 1st. I'm nowhere near where I need to be. Please help me to become current. I can really use your help! If you have any questions feel free to reach out. Thank You. I have exhausted all my resources and I have no other alternatives other than to ask for assistance. **Anything you can donate is greatly appreciated. Thank You.**\\n\\n[https://www.gofundme.com/f/kt2y5m-in-need-of-help](https://www.gofundme.com/f/kt2y5m-in-need-of-help)                                                                                                                                         1\n",
       "Mass tree planting event. Sign up here: \\n\\n[https://www.surveymonkey.co.uk/r/BFXM35C](https://www.surveymonkey.co.uk/r/BFXM35C) \\n\\n\\-Janelle                                                                                                                                                                                                                                                                                                                                                                                                                                                                                                                                                                                                                                                                                                                                                                                                                                                                                                                                                                                                                                                                                                                                                                    1\n",
       "Name: selftext, Length: 3435, dtype: int64"
      ]
     },
     "execution_count": 61,
     "metadata": {},
     "output_type": "execute_result"
    }
   ],
   "source": [
    "# Check text in selftext column - need to change [removed] and [deleted]\n",
    "posts['selftext'].value_counts()"
   ]
  },
  {
   "cell_type": "code",
   "execution_count": 62,
   "metadata": {},
   "outputs": [
    {
     "data": {
      "text/html": [
       "<div>\n",
       "<style scoped>\n",
       "    .dataframe tbody tr th:only-of-type {\n",
       "        vertical-align: middle;\n",
       "    }\n",
       "\n",
       "    .dataframe tbody tr th {\n",
       "        vertical-align: top;\n",
       "    }\n",
       "\n",
       "    .dataframe thead th {\n",
       "        text-align: right;\n",
       "    }\n",
       "</style>\n",
       "<table border=\"1\" class=\"dataframe\">\n",
       "  <thead>\n",
       "    <tr style=\"text-align: right;\">\n",
       "      <th></th>\n",
       "      <th>title</th>\n",
       "      <th>selftext</th>\n",
       "      <th>subreddit</th>\n",
       "      <th>created_utc</th>\n",
       "      <th>author</th>\n",
       "      <th>num_comments</th>\n",
       "      <th>score</th>\n",
       "      <th>is_self</th>\n",
       "      <th>timestamp</th>\n",
       "    </tr>\n",
       "  </thead>\n",
       "  <tbody>\n",
       "    <tr>\n",
       "      <th>4</th>\n",
       "      <td>Breathing Pattern Disorders Caused by Environm...</td>\n",
       "      <td>[removed]</td>\n",
       "      <td>environment</td>\n",
       "      <td>1579883335</td>\n",
       "      <td>ValiantDance</td>\n",
       "      <td>0</td>\n",
       "      <td>1</td>\n",
       "      <td>True</td>\n",
       "      <td>2020-01-24 11:28:55</td>\n",
       "    </tr>\n",
       "    <tr>\n",
       "      <th>15</th>\n",
       "      <td>My village don't recycle</td>\n",
       "      <td>[removed]</td>\n",
       "      <td>environment</td>\n",
       "      <td>1579942566</td>\n",
       "      <td>xdbeizz</td>\n",
       "      <td>0</td>\n",
       "      <td>1</td>\n",
       "      <td>True</td>\n",
       "      <td>2020-01-25 03:56:06</td>\n",
       "    </tr>\n",
       "    <tr>\n",
       "      <th>27</th>\n",
       "      <td>No Deal for Nature campaign</td>\n",
       "      <td>[removed]</td>\n",
       "      <td>environment</td>\n",
       "      <td>1580045119</td>\n",
       "      <td>total_green_future</td>\n",
       "      <td>0</td>\n",
       "      <td>1</td>\n",
       "      <td>True</td>\n",
       "      <td>2020-01-26 08:25:19</td>\n",
       "    </tr>\n",
       "    <tr>\n",
       "      <th>42</th>\n",
       "      <td>If climate change is such a threat to the USA,...</td>\n",
       "      <td>[removed]</td>\n",
       "      <td>environment</td>\n",
       "      <td>1580169070</td>\n",
       "      <td>ChopFinsOffOrcas</td>\n",
       "      <td>0</td>\n",
       "      <td>1</td>\n",
       "      <td>True</td>\n",
       "      <td>2020-01-27 18:51:10</td>\n",
       "    </tr>\n",
       "    <tr>\n",
       "      <th>63</th>\n",
       "      <td>Blockchain Technology in Sustainable Fashion -...</td>\n",
       "      <td>[removed]</td>\n",
       "      <td>environment</td>\n",
       "      <td>1579457646</td>\n",
       "      <td>hvvzl</td>\n",
       "      <td>0</td>\n",
       "      <td>1</td>\n",
       "      <td>True</td>\n",
       "      <td>2020-01-19 13:14:06</td>\n",
       "    </tr>\n",
       "    <tr>\n",
       "      <th>...</th>\n",
       "      <td>...</td>\n",
       "      <td>...</td>\n",
       "      <td>...</td>\n",
       "      <td>...</td>\n",
       "      <td>...</td>\n",
       "      <td>...</td>\n",
       "      <td>...</td>\n",
       "      <td>...</td>\n",
       "      <td>...</td>\n",
       "    </tr>\n",
       "    <tr>\n",
       "      <th>5895</th>\n",
       "      <td>[Academic] Are we now seeing the benefits of J...</td>\n",
       "      <td>[removed]</td>\n",
       "      <td>technology</td>\n",
       "      <td>1561319930</td>\n",
       "      <td>E-Ude</td>\n",
       "      <td>1</td>\n",
       "      <td>1</td>\n",
       "      <td>True</td>\n",
       "      <td>2019-06-23 15:58:50</td>\n",
       "    </tr>\n",
       "    <tr>\n",
       "      <th>5896</th>\n",
       "      <td>Why do my two different devices on the same ne...</td>\n",
       "      <td>[removed]</td>\n",
       "      <td>technology</td>\n",
       "      <td>1565235871</td>\n",
       "      <td>SenseiKahi</td>\n",
       "      <td>2</td>\n",
       "      <td>1</td>\n",
       "      <td>True</td>\n",
       "      <td>2019-08-07 23:44:31</td>\n",
       "    </tr>\n",
       "    <tr>\n",
       "      <th>5897</th>\n",
       "      <td>The wAIting Game</td>\n",
       "      <td>[removed]</td>\n",
       "      <td>technology</td>\n",
       "      <td>1561308177</td>\n",
       "      <td>Wenderu84</td>\n",
       "      <td>2</td>\n",
       "      <td>1</td>\n",
       "      <td>True</td>\n",
       "      <td>2019-06-23 12:42:57</td>\n",
       "    </tr>\n",
       "    <tr>\n",
       "      <th>5898</th>\n",
       "      <td>Photo Lab PRO Picture Editor v3.6.16</td>\n",
       "      <td>[removed]</td>\n",
       "      <td>technology</td>\n",
       "      <td>1570894891</td>\n",
       "      <td>KISKASKEY</td>\n",
       "      <td>0</td>\n",
       "      <td>1</td>\n",
       "      <td>True</td>\n",
       "      <td>2019-10-12 11:41:31</td>\n",
       "    </tr>\n",
       "    <tr>\n",
       "      <th>5899</th>\n",
       "      <td>Exclusive Offer On Full Stack Web Development ...</td>\n",
       "      <td>[removed]</td>\n",
       "      <td>technology</td>\n",
       "      <td>1561701289</td>\n",
       "      <td>Crampeteb</td>\n",
       "      <td>2</td>\n",
       "      <td>1</td>\n",
       "      <td>True</td>\n",
       "      <td>2019-06-28 01:54:49</td>\n",
       "    </tr>\n",
       "  </tbody>\n",
       "</table>\n",
       "<p>2049 rows × 9 columns</p>\n",
       "</div>"
      ],
      "text/plain": [
       "                                                  title   selftext  \\\n",
       "4     Breathing Pattern Disorders Caused by Environm...  [removed]   \n",
       "15                             My village don't recycle  [removed]   \n",
       "27                          No Deal for Nature campaign  [removed]   \n",
       "42    If climate change is such a threat to the USA,...  [removed]   \n",
       "63    Blockchain Technology in Sustainable Fashion -...  [removed]   \n",
       "...                                                 ...        ...   \n",
       "5895  [Academic] Are we now seeing the benefits of J...  [removed]   \n",
       "5896  Why do my two different devices on the same ne...  [removed]   \n",
       "5897                                   The wAIting Game  [removed]   \n",
       "5898               Photo Lab PRO Picture Editor v3.6.16  [removed]   \n",
       "5899  Exclusive Offer On Full Stack Web Development ...  [removed]   \n",
       "\n",
       "        subreddit  created_utc              author  num_comments  score  \\\n",
       "4     environment   1579883335        ValiantDance             0      1   \n",
       "15    environment   1579942566             xdbeizz             0      1   \n",
       "27    environment   1580045119  total_green_future             0      1   \n",
       "42    environment   1580169070    ChopFinsOffOrcas             0      1   \n",
       "63    environment   1579457646               hvvzl             0      1   \n",
       "...           ...          ...                 ...           ...    ...   \n",
       "5895   technology   1561319930               E-Ude             1      1   \n",
       "5896   technology   1565235871          SenseiKahi             2      1   \n",
       "5897   technology   1561308177           Wenderu84             2      1   \n",
       "5898   technology   1570894891           KISKASKEY             0      1   \n",
       "5899   technology   1561701289           Crampeteb             2      1   \n",
       "\n",
       "      is_self            timestamp  \n",
       "4        True  2020-01-24 11:28:55  \n",
       "15       True  2020-01-25 03:56:06  \n",
       "27       True  2020-01-26 08:25:19  \n",
       "42       True  2020-01-27 18:51:10  \n",
       "63       True  2020-01-19 13:14:06  \n",
       "...       ...                  ...  \n",
       "5895     True  2019-06-23 15:58:50  \n",
       "5896     True  2019-08-07 23:44:31  \n",
       "5897     True  2019-06-23 12:42:57  \n",
       "5898     True  2019-10-12 11:41:31  \n",
       "5899     True  2019-06-28 01:54:49  \n",
       "\n",
       "[2049 rows x 9 columns]"
      ]
     },
     "execution_count": 62,
     "metadata": {},
     "output_type": "execute_result"
    }
   ],
   "source": [
    "posts[(posts['selftext']=='[removed]')]"
   ]
  },
  {
   "cell_type": "code",
   "execution_count": 63,
   "metadata": {},
   "outputs": [],
   "source": [
    "# Fill empty self text values with empty string\n",
    "posts['selftext'] = posts['selftext'].replace('[removed]',' ')"
   ]
  },
  {
   "cell_type": "code",
   "execution_count": 64,
   "metadata": {},
   "outputs": [
    {
     "data": {
      "text/html": [
       "<div>\n",
       "<style scoped>\n",
       "    .dataframe tbody tr th:only-of-type {\n",
       "        vertical-align: middle;\n",
       "    }\n",
       "\n",
       "    .dataframe tbody tr th {\n",
       "        vertical-align: top;\n",
       "    }\n",
       "\n",
       "    .dataframe thead th {\n",
       "        text-align: right;\n",
       "    }\n",
       "</style>\n",
       "<table border=\"1\" class=\"dataframe\">\n",
       "  <thead>\n",
       "    <tr style=\"text-align: right;\">\n",
       "      <th></th>\n",
       "      <th>selftext</th>\n",
       "    </tr>\n",
       "  </thead>\n",
       "  <tbody>\n",
       "    <tr>\n",
       "      <th>0</th>\n",
       "      <td>https://www.dailymail.co.uk/news/article-7922...</td>\n",
       "    </tr>\n",
       "    <tr>\n",
       "      <th>1</th>\n",
       "      <td>There is a search engine called [Ecosia](https...</td>\n",
       "    </tr>\n",
       "    <tr>\n",
       "      <th>2</th>\n",
       "      <td>[Vandana Shiva](https://youtu.be/MNM833K22LM) ...</td>\n",
       "    </tr>\n",
       "    <tr>\n",
       "      <th>3</th>\n",
       "      <td>If you have a weak stomach, I wouldn’t watch t...</td>\n",
       "    </tr>\n",
       "    <tr>\n",
       "      <th>4</th>\n",
       "      <td></td>\n",
       "    </tr>\n",
       "    <tr>\n",
       "      <th>...</th>\n",
       "      <td>...</td>\n",
       "    </tr>\n",
       "    <tr>\n",
       "      <th>5897</th>\n",
       "      <td></td>\n",
       "    </tr>\n",
       "    <tr>\n",
       "      <th>5898</th>\n",
       "      <td></td>\n",
       "    </tr>\n",
       "    <tr>\n",
       "      <th>5899</th>\n",
       "      <td></td>\n",
       "    </tr>\n",
       "    <tr>\n",
       "      <th>5900</th>\n",
       "      <td>In my case\\n\\nI had to re-do a Video thus putt...</td>\n",
       "    </tr>\n",
       "    <tr>\n",
       "      <th>5901</th>\n",
       "      <td>World governments are unprepared for unavoidab...</td>\n",
       "    </tr>\n",
       "  </tbody>\n",
       "</table>\n",
       "<p>5902 rows × 1 columns</p>\n",
       "</div>"
      ],
      "text/plain": [
       "                                               selftext\n",
       "0      https://www.dailymail.co.uk/news/article-7922...\n",
       "1     There is a search engine called [Ecosia](https...\n",
       "2     [Vandana Shiva](https://youtu.be/MNM833K22LM) ...\n",
       "3     If you have a weak stomach, I wouldn’t watch t...\n",
       "4                                                      \n",
       "...                                                 ...\n",
       "5897                                                   \n",
       "5898                                                   \n",
       "5899                                                   \n",
       "5900  In my case\\n\\nI had to re-do a Video thus putt...\n",
       "5901  World governments are unprepared for unavoidab...\n",
       "\n",
       "[5902 rows x 1 columns]"
      ]
     },
     "execution_count": 64,
     "metadata": {},
     "output_type": "execute_result"
    }
   ],
   "source": [
    "posts[['selftext']]"
   ]
  },
  {
   "cell_type": "code",
   "execution_count": 65,
   "metadata": {},
   "outputs": [],
   "source": [
    "# Check for posts by the 'AutoModerator'\n",
    "posts.drop(posts[(posts['author']=='AutoModerator')].index, inplace=True)"
   ]
  },
  {
   "cell_type": "code",
   "execution_count": 66,
   "metadata": {},
   "outputs": [
    {
     "data": {
      "text/html": [
       "<div>\n",
       "<style scoped>\n",
       "    .dataframe tbody tr th:only-of-type {\n",
       "        vertical-align: middle;\n",
       "    }\n",
       "\n",
       "    .dataframe tbody tr th {\n",
       "        vertical-align: top;\n",
       "    }\n",
       "\n",
       "    .dataframe thead th {\n",
       "        text-align: right;\n",
       "    }\n",
       "</style>\n",
       "<table border=\"1\" class=\"dataframe\">\n",
       "  <thead>\n",
       "    <tr style=\"text-align: right;\">\n",
       "      <th></th>\n",
       "      <th>title</th>\n",
       "      <th>selftext</th>\n",
       "      <th>subreddit</th>\n",
       "      <th>created_utc</th>\n",
       "      <th>author</th>\n",
       "      <th>num_comments</th>\n",
       "      <th>score</th>\n",
       "      <th>is_self</th>\n",
       "      <th>timestamp</th>\n",
       "    </tr>\n",
       "  </thead>\n",
       "  <tbody>\n",
       "  </tbody>\n",
       "</table>\n",
       "</div>"
      ],
      "text/plain": [
       "Empty DataFrame\n",
       "Columns: [title, selftext, subreddit, created_utc, author, num_comments, score, is_self, timestamp]\n",
       "Index: []"
      ]
     },
     "execution_count": 66,
     "metadata": {},
     "output_type": "execute_result"
    }
   ],
   "source": [
    "# Confirm none left\n",
    "posts[(posts['author']=='AutoModerator')]"
   ]
  },
  {
   "cell_type": "code",
   "execution_count": 67,
   "metadata": {},
   "outputs": [],
   "source": [
    "# combine selftext and title columns into one text column\n",
    "posts['text'] = posts['selftext'] + posts['title']"
   ]
  },
  {
   "cell_type": "code",
   "execution_count": 68,
   "metadata": {},
   "outputs": [
    {
     "data": {
      "text/html": [
       "<div>\n",
       "<style scoped>\n",
       "    .dataframe tbody tr th:only-of-type {\n",
       "        vertical-align: middle;\n",
       "    }\n",
       "\n",
       "    .dataframe tbody tr th {\n",
       "        vertical-align: top;\n",
       "    }\n",
       "\n",
       "    .dataframe thead th {\n",
       "        text-align: right;\n",
       "    }\n",
       "</style>\n",
       "<table border=\"1\" class=\"dataframe\">\n",
       "  <thead>\n",
       "    <tr style=\"text-align: right;\">\n",
       "      <th></th>\n",
       "      <th>title</th>\n",
       "      <th>selftext</th>\n",
       "      <th>subreddit</th>\n",
       "      <th>created_utc</th>\n",
       "      <th>author</th>\n",
       "      <th>num_comments</th>\n",
       "      <th>score</th>\n",
       "      <th>is_self</th>\n",
       "      <th>timestamp</th>\n",
       "      <th>text</th>\n",
       "    </tr>\n",
       "  </thead>\n",
       "  <tbody>\n",
       "    <tr>\n",
       "      <th>0</th>\n",
       "      <td>Tesco to cut huge plastic use by removing wrap...</td>\n",
       "      <td>https://www.dailymail.co.uk/news/article-7922...</td>\n",
       "      <td>environment</td>\n",
       "      <td>1579839932</td>\n",
       "      <td>attooree</td>\n",
       "      <td>1</td>\n",
       "      <td>1</td>\n",
       "      <td>True</td>\n",
       "      <td>2020-01-23 23:25:32</td>\n",
       "      <td>https://www.dailymail.co.uk/news/article-7922...</td>\n",
       "    </tr>\n",
       "    <tr>\n",
       "      <th>1</th>\n",
       "      <td>The easiest ways to reforest Earth</td>\n",
       "      <td>There is a search engine called [Ecosia](https...</td>\n",
       "      <td>environment</td>\n",
       "      <td>1579854824</td>\n",
       "      <td>jedzoka</td>\n",
       "      <td>1</td>\n",
       "      <td>1</td>\n",
       "      <td>True</td>\n",
       "      <td>2020-01-24 03:33:44</td>\n",
       "      <td>There is a search engine called [Ecosia](https...</td>\n",
       "    </tr>\n",
       "    <tr>\n",
       "      <th>2</th>\n",
       "      <td>'Bill Gates is continuing the work of Monsanto...</td>\n",
       "      <td>[Vandana Shiva](https://youtu.be/MNM833K22LM) ...</td>\n",
       "      <td>environment</td>\n",
       "      <td>1579863401</td>\n",
       "      <td>CommonEmployment</td>\n",
       "      <td>2</td>\n",
       "      <td>1</td>\n",
       "      <td>True</td>\n",
       "      <td>2020-01-24 05:56:41</td>\n",
       "      <td>[Vandana Shiva](https://youtu.be/MNM833K22LM) ...</td>\n",
       "    </tr>\n",
       "    <tr>\n",
       "      <th>3</th>\n",
       "      <td>This is how the Chinese illegally turn toxic p...</td>\n",
       "      <td>If you have a weak stomach, I wouldn’t watch t...</td>\n",
       "      <td>environment</td>\n",
       "      <td>1579882738</td>\n",
       "      <td>MBlaizze</td>\n",
       "      <td>0</td>\n",
       "      <td>1</td>\n",
       "      <td>True</td>\n",
       "      <td>2020-01-24 11:18:58</td>\n",
       "      <td>If you have a weak stomach, I wouldn’t watch t...</td>\n",
       "    </tr>\n",
       "    <tr>\n",
       "      <th>4</th>\n",
       "      <td>Breathing Pattern Disorders Caused by Environm...</td>\n",
       "      <td></td>\n",
       "      <td>environment</td>\n",
       "      <td>1579883335</td>\n",
       "      <td>ValiantDance</td>\n",
       "      <td>0</td>\n",
       "      <td>1</td>\n",
       "      <td>True</td>\n",
       "      <td>2020-01-24 11:28:55</td>\n",
       "      <td>Breathing Pattern Disorders Caused by Environ...</td>\n",
       "    </tr>\n",
       "  </tbody>\n",
       "</table>\n",
       "</div>"
      ],
      "text/plain": [
       "                                               title  \\\n",
       "0  Tesco to cut huge plastic use by removing wrap...   \n",
       "1                 The easiest ways to reforest Earth   \n",
       "2  'Bill Gates is continuing the work of Monsanto...   \n",
       "3  This is how the Chinese illegally turn toxic p...   \n",
       "4  Breathing Pattern Disorders Caused by Environm...   \n",
       "\n",
       "                                            selftext    subreddit  \\\n",
       "0   https://www.dailymail.co.uk/news/article-7922...  environment   \n",
       "1  There is a search engine called [Ecosia](https...  environment   \n",
       "2  [Vandana Shiva](https://youtu.be/MNM833K22LM) ...  environment   \n",
       "3  If you have a weak stomach, I wouldn’t watch t...  environment   \n",
       "4                                                     environment   \n",
       "\n",
       "   created_utc            author  num_comments  score  is_self  \\\n",
       "0   1579839932          attooree             1      1     True   \n",
       "1   1579854824           jedzoka             1      1     True   \n",
       "2   1579863401  CommonEmployment             2      1     True   \n",
       "3   1579882738          MBlaizze             0      1     True   \n",
       "4   1579883335      ValiantDance             0      1     True   \n",
       "\n",
       "             timestamp                                               text  \n",
       "0  2020-01-23 23:25:32   https://www.dailymail.co.uk/news/article-7922...  \n",
       "1  2020-01-24 03:33:44  There is a search engine called [Ecosia](https...  \n",
       "2  2020-01-24 05:56:41  [Vandana Shiva](https://youtu.be/MNM833K22LM) ...  \n",
       "3  2020-01-24 11:18:58  If you have a weak stomach, I wouldn’t watch t...  \n",
       "4  2020-01-24 11:28:55   Breathing Pattern Disorders Caused by Environ...  "
      ]
     },
     "execution_count": 68,
     "metadata": {},
     "output_type": "execute_result"
    }
   ],
   "source": [
    "# confirm new column created\n",
    "posts.head()"
   ]
  },
  {
   "cell_type": "code",
   "execution_count": 69,
   "metadata": {},
   "outputs": [],
   "source": [
    "# Drop all columns except subreddit identifier and text\n",
    "posts.drop(columns=['title',\n",
    "                    'selftext',\n",
    "                    'created_utc',\n",
    "                    'author',\n",
    "                    'num_comments',\n",
    "                    'score',\n",
    "                    'is_self',\n",
    "                   'timestamp'], inplace=True)"
   ]
  },
  {
   "cell_type": "code",
   "execution_count": 70,
   "metadata": {},
   "outputs": [
    {
     "data": {
      "text/html": [
       "<div>\n",
       "<style scoped>\n",
       "    .dataframe tbody tr th:only-of-type {\n",
       "        vertical-align: middle;\n",
       "    }\n",
       "\n",
       "    .dataframe tbody tr th {\n",
       "        vertical-align: top;\n",
       "    }\n",
       "\n",
       "    .dataframe thead th {\n",
       "        text-align: right;\n",
       "    }\n",
       "</style>\n",
       "<table border=\"1\" class=\"dataframe\">\n",
       "  <thead>\n",
       "    <tr style=\"text-align: right;\">\n",
       "      <th></th>\n",
       "      <th>subreddit</th>\n",
       "      <th>text</th>\n",
       "    </tr>\n",
       "  </thead>\n",
       "  <tbody>\n",
       "    <tr>\n",
       "      <th>0</th>\n",
       "      <td>environment</td>\n",
       "      <td>https://www.dailymail.co.uk/news/article-7922...</td>\n",
       "    </tr>\n",
       "    <tr>\n",
       "      <th>1</th>\n",
       "      <td>environment</td>\n",
       "      <td>There is a search engine called [Ecosia](https...</td>\n",
       "    </tr>\n",
       "    <tr>\n",
       "      <th>2</th>\n",
       "      <td>environment</td>\n",
       "      <td>[Vandana Shiva](https://youtu.be/MNM833K22LM) ...</td>\n",
       "    </tr>\n",
       "    <tr>\n",
       "      <th>3</th>\n",
       "      <td>environment</td>\n",
       "      <td>If you have a weak stomach, I wouldn’t watch t...</td>\n",
       "    </tr>\n",
       "    <tr>\n",
       "      <th>4</th>\n",
       "      <td>environment</td>\n",
       "      <td>Breathing Pattern Disorders Caused by Environ...</td>\n",
       "    </tr>\n",
       "  </tbody>\n",
       "</table>\n",
       "</div>"
      ],
      "text/plain": [
       "     subreddit                                               text\n",
       "0  environment   https://www.dailymail.co.uk/news/article-7922...\n",
       "1  environment  There is a search engine called [Ecosia](https...\n",
       "2  environment  [Vandana Shiva](https://youtu.be/MNM833K22LM) ...\n",
       "3  environment  If you have a weak stomach, I wouldn’t watch t...\n",
       "4  environment   Breathing Pattern Disorders Caused by Environ..."
      ]
     },
     "execution_count": 70,
     "metadata": {},
     "output_type": "execute_result"
    }
   ],
   "source": [
    "posts.head()"
   ]
  },
  {
   "cell_type": "code",
   "execution_count": 71,
   "metadata": {},
   "outputs": [],
   "source": [
    "# Convert environment and tech into binary labels\n",
    "posts['subreddit'] = posts['subreddit'].map({'environment': 0, 'technology': 1})"
   ]
  },
  {
   "cell_type": "code",
   "execution_count": 72,
   "metadata": {},
   "outputs": [
    {
     "data": {
      "text/plain": [
       "0    2951\n",
       "1    2943\n",
       "Name: subreddit, dtype: int64"
      ]
     },
     "execution_count": 72,
     "metadata": {},
     "output_type": "execute_result"
    }
   ],
   "source": [
    "posts['subreddit'].value_counts()"
   ]
  },
  {
   "cell_type": "code",
   "execution_count": 75,
   "metadata": {},
   "outputs": [
    {
     "data": {
      "text/plain": [
       "subreddit      0\n",
       "text         377\n",
       "dtype: int64"
      ]
     },
     "execution_count": 75,
     "metadata": {},
     "output_type": "execute_result"
    }
   ],
   "source": [
    "# check for null values\n",
    "posts.isnull().sum()"
   ]
  },
  {
   "cell_type": "code",
   "execution_count": 83,
   "metadata": {},
   "outputs": [],
   "source": [
    "# drop rows with null values\n",
    "posts.dropna(inplace=True)"
   ]
  },
  {
   "cell_type": "code",
   "execution_count": 84,
   "metadata": {},
   "outputs": [
    {
     "data": {
      "text/plain": [
       "subreddit    0\n",
       "text         0\n",
       "dtype: int64"
      ]
     },
     "execution_count": 84,
     "metadata": {},
     "output_type": "execute_result"
    }
   ],
   "source": [
    "posts.isnull().sum()"
   ]
  },
  {
   "cell_type": "markdown",
   "metadata": {},
   "source": [
    "## Save to csv"
   ]
  },
  {
   "cell_type": "code",
   "execution_count": 85,
   "metadata": {},
   "outputs": [],
   "source": [
    "posts.to_csv('../data/posts_clean.csv', index=False)"
   ]
  }
 ],
 "metadata": {
  "kernelspec": {
   "display_name": "Python 3",
   "language": "python",
   "name": "python3"
  },
  "language_info": {
   "codemirror_mode": {
    "name": "ipython",
    "version": 3
   },
   "file_extension": ".py",
   "mimetype": "text/x-python",
   "name": "python",
   "nbconvert_exporter": "python",
   "pygments_lexer": "ipython3",
   "version": "3.7.6"
  },
  "toc": {
   "base_numbering": 1,
   "nav_menu": {},
   "number_sections": true,
   "sideBar": true,
   "skip_h1_title": false,
   "title_cell": "Table of Contents",
   "title_sidebar": "Contents",
   "toc_cell": false,
   "toc_position": {
    "height": "calc(100% - 180px)",
    "left": "10px",
    "top": "150px",
    "width": "204.986px"
   },
   "toc_section_display": true,
   "toc_window_display": true
  },
  "varInspector": {
   "cols": {
    "lenName": 16,
    "lenType": 16,
    "lenVar": 40
   },
   "kernels_config": {
    "python": {
     "delete_cmd_postfix": "",
     "delete_cmd_prefix": "del ",
     "library": "var_list.py",
     "varRefreshCmd": "print(var_dic_list())"
    },
    "r": {
     "delete_cmd_postfix": ") ",
     "delete_cmd_prefix": "rm(",
     "library": "var_list.r",
     "varRefreshCmd": "cat(var_dic_list()) "
    }
   },
   "types_to_exclude": [
    "module",
    "function",
    "builtin_function_or_method",
    "instance",
    "_Feature"
   ],
   "window_display": false
  }
 },
 "nbformat": 4,
 "nbformat_minor": 2
}
