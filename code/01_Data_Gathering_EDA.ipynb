{
 "cells": [
  {
   "cell_type": "markdown",
   "metadata": {},
   "source": [
    "# Data Gathering and Cleaning\n"
   ]
  },
  {
   "cell_type": "markdown",
   "metadata": {},
   "source": [
    "## Pushshift API Wrapper"
   ]
  },
  {
   "cell_type": "code",
   "execution_count": 5,
   "metadata": {},
   "outputs": [],
   "source": [
    "import pandas as pd\n",
    "import time\n",
    "import requests\n",
    "import datetime as dt"
   ]
  },
  {
   "cell_type": "code",
   "execution_count": 7,
   "metadata": {},
   "outputs": [],
   "source": [
    "def get_date(created):\n",
    "    return dt.datetime.fromtimestamp(created)\n",
    "\n",
    "def query_pushshift(subreddit, \n",
    "                    kind='submission', \n",
    "                    skip=5, \n",
    "                    times=50, \n",
    "                    subfield = ['title', \n",
    "                                'selftext', \n",
    "                                'subreddit', \n",
    "                                'created_utc', \n",
    "                                'author', \n",
    "                                'num_comments',\n",
    "                                'score', \n",
    "                                'is_self']):\n",
    "    \n",
    "    stem = f\"https://api.pushshift.io/reddit/search/{kind}/?subreddit={subreddit}&size=500\" \n",
    "    mylist = []\n",
    "    \n",
    "    # Create the loop to scrape Reddit x times\n",
    "    for x in range(1, times + 1):\n",
    "        URL = f\"{stem}&after={skip * x}d\"\n",
    "        print(URL)\n",
    "\n",
    "        response = requests.get(URL)\n",
    "        assert response.status_code == 200\n",
    "        the_json = response.json()\n",
    "        df = pd.DataFrame.from_dict(the_json['data'])\n",
    "        mylist.append(df)\n",
    "        time.sleep(3)\n",
    "        \n",
    "    full = pd.concat(mylist, sort=False)\n",
    "    if kind == \"submission\":\n",
    "        full = full[subfield]\n",
    "        full = full.drop_duplicates()\n",
    "        full = full.loc[full['is_self'] == True]\n",
    "          \n",
    "    _timestamp = full[\"created_utc\"].apply(get_date)\n",
    "    full['timestamp'] = _timestamp\n",
    "    print(full.shape)\n",
    "    return full"
   ]
  },
  {
   "cell_type": "code",
   "execution_count": 8,
   "metadata": {},
   "outputs": [
    {
     "name": "stdout",
     "output_type": "stream",
     "text": [
      "https://api.pushshift.io/reddit/search/submission/?subreddit=environment&size=500&after=5d\n",
      "https://api.pushshift.io/reddit/search/submission/?subreddit=environment&size=500&after=10d\n",
      "https://api.pushshift.io/reddit/search/submission/?subreddit=environment&size=500&after=15d\n",
      "https://api.pushshift.io/reddit/search/submission/?subreddit=environment&size=500&after=20d\n",
      "https://api.pushshift.io/reddit/search/submission/?subreddit=environment&size=500&after=25d\n",
      "https://api.pushshift.io/reddit/search/submission/?subreddit=environment&size=500&after=30d\n",
      "https://api.pushshift.io/reddit/search/submission/?subreddit=environment&size=500&after=35d\n",
      "https://api.pushshift.io/reddit/search/submission/?subreddit=environment&size=500&after=40d\n",
      "https://api.pushshift.io/reddit/search/submission/?subreddit=environment&size=500&after=45d\n",
      "https://api.pushshift.io/reddit/search/submission/?subreddit=environment&size=500&after=50d\n",
      "https://api.pushshift.io/reddit/search/submission/?subreddit=environment&size=500&after=55d\n",
      "https://api.pushshift.io/reddit/search/submission/?subreddit=environment&size=500&after=60d\n",
      "https://api.pushshift.io/reddit/search/submission/?subreddit=environment&size=500&after=65d\n",
      "https://api.pushshift.io/reddit/search/submission/?subreddit=environment&size=500&after=70d\n",
      "https://api.pushshift.io/reddit/search/submission/?subreddit=environment&size=500&after=75d\n",
      "https://api.pushshift.io/reddit/search/submission/?subreddit=environment&size=500&after=80d\n",
      "https://api.pushshift.io/reddit/search/submission/?subreddit=environment&size=500&after=85d\n",
      "https://api.pushshift.io/reddit/search/submission/?subreddit=environment&size=500&after=90d\n",
      "https://api.pushshift.io/reddit/search/submission/?subreddit=environment&size=500&after=95d\n",
      "https://api.pushshift.io/reddit/search/submission/?subreddit=environment&size=500&after=100d\n",
      "https://api.pushshift.io/reddit/search/submission/?subreddit=environment&size=500&after=105d\n",
      "https://api.pushshift.io/reddit/search/submission/?subreddit=environment&size=500&after=110d\n",
      "https://api.pushshift.io/reddit/search/submission/?subreddit=environment&size=500&after=115d\n",
      "https://api.pushshift.io/reddit/search/submission/?subreddit=environment&size=500&after=120d\n",
      "https://api.pushshift.io/reddit/search/submission/?subreddit=environment&size=500&after=125d\n",
      "https://api.pushshift.io/reddit/search/submission/?subreddit=environment&size=500&after=130d\n",
      "https://api.pushshift.io/reddit/search/submission/?subreddit=environment&size=500&after=135d\n",
      "https://api.pushshift.io/reddit/search/submission/?subreddit=environment&size=500&after=140d\n",
      "https://api.pushshift.io/reddit/search/submission/?subreddit=environment&size=500&after=145d\n",
      "https://api.pushshift.io/reddit/search/submission/?subreddit=environment&size=500&after=150d\n",
      "https://api.pushshift.io/reddit/search/submission/?subreddit=environment&size=500&after=155d\n",
      "https://api.pushshift.io/reddit/search/submission/?subreddit=environment&size=500&after=160d\n",
      "https://api.pushshift.io/reddit/search/submission/?subreddit=environment&size=500&after=165d\n",
      "https://api.pushshift.io/reddit/search/submission/?subreddit=environment&size=500&after=170d\n",
      "https://api.pushshift.io/reddit/search/submission/?subreddit=environment&size=500&after=175d\n",
      "https://api.pushshift.io/reddit/search/submission/?subreddit=environment&size=500&after=180d\n",
      "https://api.pushshift.io/reddit/search/submission/?subreddit=environment&size=500&after=185d\n",
      "https://api.pushshift.io/reddit/search/submission/?subreddit=environment&size=500&after=190d\n",
      "https://api.pushshift.io/reddit/search/submission/?subreddit=environment&size=500&after=195d\n",
      "https://api.pushshift.io/reddit/search/submission/?subreddit=environment&size=500&after=200d\n",
      "https://api.pushshift.io/reddit/search/submission/?subreddit=environment&size=500&after=205d\n",
      "https://api.pushshift.io/reddit/search/submission/?subreddit=environment&size=500&after=210d\n",
      "https://api.pushshift.io/reddit/search/submission/?subreddit=environment&size=500&after=215d\n",
      "https://api.pushshift.io/reddit/search/submission/?subreddit=environment&size=500&after=220d\n",
      "https://api.pushshift.io/reddit/search/submission/?subreddit=environment&size=500&after=225d\n",
      "https://api.pushshift.io/reddit/search/submission/?subreddit=environment&size=500&after=230d\n",
      "https://api.pushshift.io/reddit/search/submission/?subreddit=environment&size=500&after=235d\n",
      "https://api.pushshift.io/reddit/search/submission/?subreddit=environment&size=500&after=240d\n",
      "https://api.pushshift.io/reddit/search/submission/?subreddit=environment&size=500&after=245d\n",
      "https://api.pushshift.io/reddit/search/submission/?subreddit=environment&size=500&after=250d\n",
      "https://api.pushshift.io/reddit/search/submission/?subreddit=environment&size=500&after=255d\n",
      "https://api.pushshift.io/reddit/search/submission/?subreddit=environment&size=500&after=260d\n",
      "https://api.pushshift.io/reddit/search/submission/?subreddit=environment&size=500&after=265d\n",
      "https://api.pushshift.io/reddit/search/submission/?subreddit=environment&size=500&after=270d\n",
      "https://api.pushshift.io/reddit/search/submission/?subreddit=environment&size=500&after=275d\n",
      "https://api.pushshift.io/reddit/search/submission/?subreddit=environment&size=500&after=280d\n",
      "https://api.pushshift.io/reddit/search/submission/?subreddit=environment&size=500&after=285d\n",
      "https://api.pushshift.io/reddit/search/submission/?subreddit=environment&size=500&after=290d\n",
      "https://api.pushshift.io/reddit/search/submission/?subreddit=environment&size=500&after=295d\n",
      "https://api.pushshift.io/reddit/search/submission/?subreddit=environment&size=500&after=300d\n",
      "https://api.pushshift.io/reddit/search/submission/?subreddit=environment&size=500&after=305d\n",
      "https://api.pushshift.io/reddit/search/submission/?subreddit=environment&size=500&after=310d\n",
      "https://api.pushshift.io/reddit/search/submission/?subreddit=environment&size=500&after=315d\n",
      "https://api.pushshift.io/reddit/search/submission/?subreddit=environment&size=500&after=320d\n",
      "https://api.pushshift.io/reddit/search/submission/?subreddit=environment&size=500&after=325d\n",
      "https://api.pushshift.io/reddit/search/submission/?subreddit=environment&size=500&after=330d\n",
      "https://api.pushshift.io/reddit/search/submission/?subreddit=environment&size=500&after=335d\n",
      "https://api.pushshift.io/reddit/search/submission/?subreddit=environment&size=500&after=340d\n",
      "https://api.pushshift.io/reddit/search/submission/?subreddit=environment&size=500&after=345d\n",
      "https://api.pushshift.io/reddit/search/submission/?subreddit=environment&size=500&after=350d\n",
      "(4024, 9)\n"
     ]
    }
   ],
   "source": [
    "# Scrape environment data - increase dates to get more data\n",
    "df_env = query_pushshift(subreddit='environment', skip=5, times=70)"
   ]
  },
  {
   "cell_type": "code",
   "execution_count": 4,
   "metadata": {
    "scrolled": false
   },
   "outputs": [
    {
     "name": "stdout",
     "output_type": "stream",
     "text": [
      "https://api.pushshift.io/reddit/search/submission/?subreddit=technology&size=500&after=5d\n",
      "https://api.pushshift.io/reddit/search/submission/?subreddit=technology&size=500&after=10d\n",
      "https://api.pushshift.io/reddit/search/submission/?subreddit=technology&size=500&after=15d\n",
      "https://api.pushshift.io/reddit/search/submission/?subreddit=technology&size=500&after=20d\n",
      "https://api.pushshift.io/reddit/search/submission/?subreddit=technology&size=500&after=25d\n",
      "https://api.pushshift.io/reddit/search/submission/?subreddit=technology&size=500&after=30d\n",
      "https://api.pushshift.io/reddit/search/submission/?subreddit=technology&size=500&after=35d\n",
      "https://api.pushshift.io/reddit/search/submission/?subreddit=technology&size=500&after=40d\n",
      "https://api.pushshift.io/reddit/search/submission/?subreddit=technology&size=500&after=45d\n",
      "https://api.pushshift.io/reddit/search/submission/?subreddit=technology&size=500&after=50d\n",
      "https://api.pushshift.io/reddit/search/submission/?subreddit=technology&size=500&after=55d\n",
      "https://api.pushshift.io/reddit/search/submission/?subreddit=technology&size=500&after=60d\n",
      "https://api.pushshift.io/reddit/search/submission/?subreddit=technology&size=500&after=65d\n",
      "https://api.pushshift.io/reddit/search/submission/?subreddit=technology&size=500&after=70d\n",
      "https://api.pushshift.io/reddit/search/submission/?subreddit=technology&size=500&after=75d\n",
      "https://api.pushshift.io/reddit/search/submission/?subreddit=technology&size=500&after=80d\n",
      "https://api.pushshift.io/reddit/search/submission/?subreddit=technology&size=500&after=85d\n",
      "https://api.pushshift.io/reddit/search/submission/?subreddit=technology&size=500&after=90d\n",
      "https://api.pushshift.io/reddit/search/submission/?subreddit=technology&size=500&after=95d\n",
      "https://api.pushshift.io/reddit/search/submission/?subreddit=technology&size=500&after=100d\n",
      "https://api.pushshift.io/reddit/search/submission/?subreddit=technology&size=500&after=105d\n",
      "https://api.pushshift.io/reddit/search/submission/?subreddit=technology&size=500&after=110d\n",
      "https://api.pushshift.io/reddit/search/submission/?subreddit=technology&size=500&after=115d\n",
      "https://api.pushshift.io/reddit/search/submission/?subreddit=technology&size=500&after=120d\n",
      "https://api.pushshift.io/reddit/search/submission/?subreddit=technology&size=500&after=125d\n",
      "https://api.pushshift.io/reddit/search/submission/?subreddit=technology&size=500&after=130d\n",
      "https://api.pushshift.io/reddit/search/submission/?subreddit=technology&size=500&after=135d\n",
      "https://api.pushshift.io/reddit/search/submission/?subreddit=technology&size=500&after=140d\n",
      "https://api.pushshift.io/reddit/search/submission/?subreddit=technology&size=500&after=145d\n",
      "https://api.pushshift.io/reddit/search/submission/?subreddit=technology&size=500&after=150d\n",
      "https://api.pushshift.io/reddit/search/submission/?subreddit=technology&size=500&after=155d\n",
      "https://api.pushshift.io/reddit/search/submission/?subreddit=technology&size=500&after=160d\n",
      "https://api.pushshift.io/reddit/search/submission/?subreddit=technology&size=500&after=165d\n",
      "https://api.pushshift.io/reddit/search/submission/?subreddit=technology&size=500&after=170d\n",
      "https://api.pushshift.io/reddit/search/submission/?subreddit=technology&size=500&after=175d\n",
      "https://api.pushshift.io/reddit/search/submission/?subreddit=technology&size=500&after=180d\n",
      "https://api.pushshift.io/reddit/search/submission/?subreddit=technology&size=500&after=185d\n",
      "https://api.pushshift.io/reddit/search/submission/?subreddit=technology&size=500&after=190d\n",
      "https://api.pushshift.io/reddit/search/submission/?subreddit=technology&size=500&after=195d\n",
      "https://api.pushshift.io/reddit/search/submission/?subreddit=technology&size=500&after=200d\n",
      "https://api.pushshift.io/reddit/search/submission/?subreddit=technology&size=500&after=205d\n",
      "https://api.pushshift.io/reddit/search/submission/?subreddit=technology&size=500&after=210d\n",
      "https://api.pushshift.io/reddit/search/submission/?subreddit=technology&size=500&after=215d\n",
      "https://api.pushshift.io/reddit/search/submission/?subreddit=technology&size=500&after=220d\n",
      "https://api.pushshift.io/reddit/search/submission/?subreddit=technology&size=500&after=225d\n",
      "https://api.pushshift.io/reddit/search/submission/?subreddit=technology&size=500&after=230d\n",
      "https://api.pushshift.io/reddit/search/submission/?subreddit=technology&size=500&after=235d\n",
      "https://api.pushshift.io/reddit/search/submission/?subreddit=technology&size=500&after=240d\n",
      "https://api.pushshift.io/reddit/search/submission/?subreddit=technology&size=500&after=245d\n",
      "https://api.pushshift.io/reddit/search/submission/?subreddit=technology&size=500&after=250d\n",
      "(4998, 9)\n"
     ]
    }
   ],
   "source": [
    "# Scrape technology data\n",
    "df_tech = query_pushshift(subreddit='technology', skip=5, times=50)"
   ]
  },
  {
   "cell_type": "code",
   "execution_count": 9,
   "metadata": {},
   "outputs": [
    {
     "data": {
      "text/plain": [
       "((4024, 9), (4024, 9))"
      ]
     },
     "execution_count": 9,
     "metadata": {},
     "output_type": "execute_result"
    }
   ],
   "source": [
    "# Randomly sample rows in tech df to have balanced classes with env data\n",
    "df_tech = df_tech.sample(n=4024)\n",
    "\n",
    "# Confirm shapes are the same\n",
    "df_tech.shape, df_env.shape"
   ]
  },
  {
   "cell_type": "code",
   "execution_count": 10,
   "metadata": {},
   "outputs": [
    {
     "data": {
      "text/plain": [
       "(8048, 9)"
      ]
     },
     "execution_count": 10,
     "metadata": {},
     "output_type": "execute_result"
    }
   ],
   "source": [
    "# Combine env and tech dataframes\n",
    "df = pd.concat([df_env, df_tech], ignore_index=True)\n",
    "df.shape"
   ]
  },
  {
   "cell_type": "code",
   "execution_count": 11,
   "metadata": {},
   "outputs": [],
   "source": [
    "# save raw file\n",
    "df.to_csv('../data/posts_raw.csv', index=False)"
   ]
  },
  {
   "cell_type": "markdown",
   "metadata": {},
   "source": [
    "# Data Cleaning\n",
    "In this section I combine the \"selftext\" and \"titles\" from each reddit post into one column for analysis. I made this decision because there were many posts without text in the body. I also drop posts made by the Automoderator and remove non-letter characters."
   ]
  },
  {
   "cell_type": "code",
   "execution_count": 12,
   "metadata": {},
   "outputs": [],
   "source": [
    "# Import for cleaning\n",
    "posts = pd.read_csv('../data/posts_raw.csv')"
   ]
  },
  {
   "cell_type": "code",
   "execution_count": 13,
   "metadata": {
    "scrolled": true
   },
   "outputs": [
    {
     "data": {
      "text/plain": [
       "environment    4024\n",
       "technology     4024\n",
       "Name: subreddit, dtype: int64"
      ]
     },
     "execution_count": 13,
     "metadata": {},
     "output_type": "execute_result"
    }
   ],
   "source": [
    "posts['subreddit'].value_counts()"
   ]
  },
  {
   "cell_type": "code",
   "execution_count": 15,
   "metadata": {},
   "outputs": [
    {
     "data": {
      "text/plain": [
       "2853"
      ]
     },
     "execution_count": 15,
     "metadata": {},
     "output_type": "execute_result"
    }
   ],
   "source": [
    "# Confirm how many posts do not have selftext\n",
    "len(posts[(posts['selftext']=='[removed]')])"
   ]
  },
  {
   "cell_type": "code",
   "execution_count": 16,
   "metadata": {},
   "outputs": [],
   "source": [
    "# Fill empty self text values with empty string\n",
    "posts['selftext'] = posts['selftext'].replace('[removed]',' ')"
   ]
  },
  {
   "cell_type": "code",
   "execution_count": 17,
   "metadata": {},
   "outputs": [
    {
     "data": {
      "text/html": [
       "<div>\n",
       "<style scoped>\n",
       "    .dataframe tbody tr th:only-of-type {\n",
       "        vertical-align: middle;\n",
       "    }\n",
       "\n",
       "    .dataframe tbody tr th {\n",
       "        vertical-align: top;\n",
       "    }\n",
       "\n",
       "    .dataframe thead th {\n",
       "        text-align: right;\n",
       "    }\n",
       "</style>\n",
       "<table border=\"1\" class=\"dataframe\">\n",
       "  <thead>\n",
       "    <tr style=\"text-align: right;\">\n",
       "      <th></th>\n",
       "      <th>title</th>\n",
       "      <th>selftext</th>\n",
       "      <th>subreddit</th>\n",
       "      <th>created_utc</th>\n",
       "      <th>author</th>\n",
       "      <th>num_comments</th>\n",
       "      <th>score</th>\n",
       "      <th>is_self</th>\n",
       "      <th>timestamp</th>\n",
       "    </tr>\n",
       "  </thead>\n",
       "  <tbody>\n",
       "  </tbody>\n",
       "</table>\n",
       "</div>"
      ],
      "text/plain": [
       "Empty DataFrame\n",
       "Columns: [title, selftext, subreddit, created_utc, author, num_comments, score, is_self, timestamp]\n",
       "Index: []"
      ]
     },
     "execution_count": 17,
     "metadata": {},
     "output_type": "execute_result"
    }
   ],
   "source": [
    "# Drop posts by the AutoModerator\n",
    "posts.drop(posts[(posts['author']=='AutoModerator')].index, inplace=True)\n",
    "\n",
    "# Confirm none left\n",
    "posts[(posts['author']=='AutoModerator')]"
   ]
  },
  {
   "cell_type": "code",
   "execution_count": 19,
   "metadata": {},
   "outputs": [
    {
     "data": {
      "text/html": [
       "<div>\n",
       "<style scoped>\n",
       "    .dataframe tbody tr th:only-of-type {\n",
       "        vertical-align: middle;\n",
       "    }\n",
       "\n",
       "    .dataframe tbody tr th {\n",
       "        vertical-align: top;\n",
       "    }\n",
       "\n",
       "    .dataframe thead th {\n",
       "        text-align: right;\n",
       "    }\n",
       "</style>\n",
       "<table border=\"1\" class=\"dataframe\">\n",
       "  <thead>\n",
       "    <tr style=\"text-align: right;\">\n",
       "      <th></th>\n",
       "      <th>subreddit</th>\n",
       "      <th>text</th>\n",
       "    </tr>\n",
       "  </thead>\n",
       "  <tbody>\n",
       "    <tr>\n",
       "      <th>0</th>\n",
       "      <td>environment</td>\n",
       "      <td>Hey all,\\n\\nI'm posting this. . . Well, bc the...</td>\n",
       "    </tr>\n",
       "    <tr>\n",
       "      <th>1</th>\n",
       "      <td>environment</td>\n",
       "      <td>I’m trying to find a responsible way to get ri...</td>\n",
       "    </tr>\n",
       "    <tr>\n",
       "      <th>2</th>\n",
       "      <td>environment</td>\n",
       "      <td>This documentary is breaking my heart.Planet o...</td>\n",
       "    </tr>\n",
       "    <tr>\n",
       "      <th>3</th>\n",
       "      <td>environment</td>\n",
       "      <td>Destroying a natural simbiotic system (nature)...</td>\n",
       "    </tr>\n",
       "    <tr>\n",
       "      <th>4</th>\n",
       "      <td>environment</td>\n",
       "      <td>2 million chickens will be killed in Delaware ...</td>\n",
       "    </tr>\n",
       "  </tbody>\n",
       "</table>\n",
       "</div>"
      ],
      "text/plain": [
       "     subreddit                                               text\n",
       "0  environment  Hey all,\\n\\nI'm posting this. . . Well, bc the...\n",
       "1  environment  I’m trying to find a responsible way to get ri...\n",
       "2  environment  This documentary is breaking my heart.Planet o...\n",
       "3  environment  Destroying a natural simbiotic system (nature)...\n",
       "4  environment  2 million chickens will be killed in Delaware ..."
      ]
     },
     "execution_count": 19,
     "metadata": {},
     "output_type": "execute_result"
    }
   ],
   "source": [
    "# combine selftext and title columns into one text column\n",
    "posts['text'] = posts['selftext'] + posts['title']\n",
    "\n",
    "# Drop all columns except subreddit identifier and text\n",
    "posts.drop(columns=['title',\n",
    "                    'selftext',\n",
    "                    'created_utc',\n",
    "                    'author',\n",
    "                    'num_comments',\n",
    "                    'score',\n",
    "                    'is_self',\n",
    "                   'timestamp'], inplace=True)\n",
    "posts.head()"
   ]
  },
  {
   "cell_type": "code",
   "execution_count": 20,
   "metadata": {},
   "outputs": [],
   "source": [
    "# Convert environment and tech into binary labels\n",
    "posts['subreddit'] = posts['subreddit'].map({'environment': 0, 'technology': 1})"
   ]
  },
  {
   "cell_type": "code",
   "execution_count": 21,
   "metadata": {},
   "outputs": [
    {
     "data": {
      "text/plain": [
       "0    4024\n",
       "1    4014\n",
       "Name: subreddit, dtype: int64"
      ]
     },
     "execution_count": 21,
     "metadata": {},
     "output_type": "execute_result"
    }
   ],
   "source": [
    "posts['subreddit'].value_counts()"
   ]
  },
  {
   "cell_type": "code",
   "execution_count": 22,
   "metadata": {},
   "outputs": [
    {
     "data": {
      "text/plain": [
       "subreddit      0\n",
       "text         467\n",
       "dtype: int64"
      ]
     },
     "execution_count": 22,
     "metadata": {},
     "output_type": "execute_result"
    }
   ],
   "source": [
    "# check for null values\n",
    "posts.isnull().sum()"
   ]
  },
  {
   "cell_type": "code",
   "execution_count": 23,
   "metadata": {},
   "outputs": [],
   "source": [
    "# drop rows with null values\n",
    "posts.dropna(inplace=True)"
   ]
  },
  {
   "cell_type": "markdown",
   "metadata": {},
   "source": [
    "## Save to csv"
   ]
  },
  {
   "cell_type": "code",
   "execution_count": 24,
   "metadata": {},
   "outputs": [],
   "source": [
    "posts.to_csv('../data/posts_clean.csv', index=False)"
   ]
  }
 ],
 "metadata": {
  "kernelspec": {
   "display_name": "Python 3",
   "language": "python",
   "name": "python3"
  },
  "language_info": {
   "codemirror_mode": {
    "name": "ipython",
    "version": 3
   },
   "file_extension": ".py",
   "mimetype": "text/x-python",
   "name": "python",
   "nbconvert_exporter": "python",
   "pygments_lexer": "ipython3",
   "version": "3.7.6"
  },
  "toc": {
   "base_numbering": 1,
   "nav_menu": {},
   "number_sections": true,
   "sideBar": true,
   "skip_h1_title": false,
   "title_cell": "Table of Contents",
   "title_sidebar": "Contents",
   "toc_cell": false,
   "toc_position": {
    "height": "calc(100% - 180px)",
    "left": "10px",
    "top": "150px",
    "width": "204.986px"
   },
   "toc_section_display": true,
   "toc_window_display": true
  },
  "varInspector": {
   "cols": {
    "lenName": 16,
    "lenType": 16,
    "lenVar": 40
   },
   "kernels_config": {
    "python": {
     "delete_cmd_postfix": "",
     "delete_cmd_prefix": "del ",
     "library": "var_list.py",
     "varRefreshCmd": "print(var_dic_list())"
    },
    "r": {
     "delete_cmd_postfix": ") ",
     "delete_cmd_prefix": "rm(",
     "library": "var_list.r",
     "varRefreshCmd": "cat(var_dic_list()) "
    }
   },
   "types_to_exclude": [
    "module",
    "function",
    "builtin_function_or_method",
    "instance",
    "_Feature"
   ],
   "window_display": false
  }
 },
 "nbformat": 4,
 "nbformat_minor": 2
}
